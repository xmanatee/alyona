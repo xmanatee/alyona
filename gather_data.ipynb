{
 "cells": [
  {
   "cell_type": "code",
   "execution_count": null,
   "metadata": {
    "collapsed": true
   },
   "outputs": [],
   "source": []
  },
  {
   "cell_type": "markdown",
   "metadata": {},
   "source": [
    "https://oauth.vk.com/authorize?client_id=6052784&scope=271502&redirect_uri=https://oauth.vk.com/blank.html&display=page&v=5.63&response_type=token"
   ]
  },
  {
   "cell_type": "code",
   "execution_count": 1,
   "metadata": {
    "collapsed": true
   },
   "outputs": [],
   "source": [
    "# copy token here\n",
    "token = \"b0eccfa8b4fe3dca107904cdcae88aee85291dfb37b141bf552fb8d625986dc3b0bbadf1384f4a9051abc\""
   ]
  },
  {
   "cell_type": "code",
   "execution_count": 2,
   "metadata": {
    "collapsed": true
   },
   "outputs": [],
   "source": [
    "poll_group_id = \"-172053584\""
   ]
  },
  {
   "cell_type": "markdown",
   "metadata": {},
   "source": [
    "# VK API"
   ]
  },
  {
   "cell_type": "code",
   "execution_count": 3,
   "metadata": {
    "collapsed": true
   },
   "outputs": [],
   "source": [
    "import vk\n",
    "from vk.exceptions import VkAPIError"
   ]
  },
  {
   "cell_type": "code",
   "execution_count": 4,
   "metadata": {
    "collapsed": true
   },
   "outputs": [],
   "source": [
    "session = vk.Session(token)\n",
    "api = vk.API(session, v=\"5.74\")"
   ]
  },
  {
   "cell_type": "markdown",
   "metadata": {},
   "source": [
    "# Getting wall data"
   ]
  },
  {
   "cell_type": "markdown",
   "metadata": {},
   "source": [
    "### Creating data dir if it doesn't exist"
   ]
  },
  {
   "cell_type": "code",
   "execution_count": 5,
   "metadata": {
    "collapsed": true
   },
   "outputs": [],
   "source": [
    "import os"
   ]
  },
  {
   "cell_type": "code",
   "execution_count": 6,
   "metadata": {
    "collapsed": true
   },
   "outputs": [],
   "source": [
    "os.makedirs(\"data\", exist_ok=True)"
   ]
  },
  {
   "cell_type": "markdown",
   "metadata": {},
   "source": [
    "### Requesting first 100"
   ]
  },
  {
   "cell_type": "code",
   "execution_count": 7,
   "metadata": {},
   "outputs": [
    {
     "name": "stdout",
     "output_type": "stream",
     "text": [
      "got 100 items\n"
     ]
    }
   ],
   "source": [
    "kwargs = {\"owner_id\": poll_group_id, \"count\": \"100\"}\n",
    "\n",
    "group_wall_json = api.wall.get(**kwargs)\n",
    "\n",
    "print(\"got {} items\".format(len(group_wall_json[\"items\"])))"
   ]
  },
  {
   "cell_type": "markdown",
   "metadata": {},
   "source": [
    "### Requesting the rest"
   ]
  },
  {
   "cell_type": "code",
   "execution_count": 8,
   "metadata": {},
   "outputs": [
    {
     "name": "stdout",
     "output_type": "stream",
     "text": [
      "Number of items now: 200\n",
      "Number of items now: 300\n",
      "Number of items now: 400\n",
      "Number of items now: 500\n",
      "Number of items now: 600\n",
      "Number of items now: 700\n",
      "Number of items now: 800\n",
      "Number of items now: 900\n",
      "Number of items now: 1000\n",
      "Number of items now: 1064\n"
     ]
    }
   ],
   "source": [
    "import time\n",
    "\n",
    "while len(group_wall_json[\"items\"]) < group_wall_json[\"count\"]:\n",
    "    kwargs.update({\n",
    "        \"offset\": len(group_wall_json[\"items\"])\n",
    "    })\n",
    "    extra_group_wall_json = api.wall.get(**kwargs)\n",
    "    group_wall_json[\"items\"].extend(extra_group_wall_json[\"items\"])\n",
    "    print(\"Number of items now: {}\".format(len(group_wall_json[\"items\"])))\n",
    "    time.sleep(3)"
   ]
  },
  {
   "cell_type": "markdown",
   "metadata": {},
   "source": [
    "### Saving the result"
   ]
  },
  {
   "cell_type": "code",
   "execution_count": 9,
   "metadata": {
    "collapsed": true
   },
   "outputs": [],
   "source": [
    "import json"
   ]
  },
  {
   "cell_type": "code",
   "execution_count": 10,
   "metadata": {
    "collapsed": true
   },
   "outputs": [],
   "source": [
    "with open(\"data/group_wall.json\", \"w\") as f:\n",
    "    json.dump(group_wall_json, f)"
   ]
  },
  {
   "cell_type": "markdown",
   "metadata": {},
   "source": [
    "# Getting poll voters"
   ]
  },
  {
   "cell_type": "code",
   "execution_count": 11,
   "metadata": {
    "collapsed": true
   },
   "outputs": [],
   "source": [
    "with open(\"data/group_wall.json\", \"r\") as f:\n",
    "    group_wall_json = json.load(f)"
   ]
  },
  {
   "cell_type": "code",
   "execution_count": 12,
   "metadata": {
    "collapsed": true
   },
   "outputs": [],
   "source": [
    "def get_poll(wall_post):\n",
    "    if \"attachments\" not in wall_post:\n",
    "        return None\n",
    "    for attachment in wall_post[\"attachments\"]:\n",
    "        if attachment[\"type\"] != \"poll\":\n",
    "            continue\n",
    "        poll = attachment[\"poll\"]\n",
    "        return poll\n",
    "    return None"
   ]
  },
  {
   "cell_type": "code",
   "execution_count": 13,
   "metadata": {
    "collapsed": true
   },
   "outputs": [],
   "source": [
    "def vote_in_poll(api, poll):\n",
    "    answer_id = poll[\"answers\"][0][\"id\"]\n",
    "    kwargs = {\n",
    "        \"poll_id\": poll[\"id\"],\n",
    "        \"owner_id\": poll[\"owner_id\"],\n",
    "        \"answer_ids\": [answer_id],\n",
    "    }\n",
    "    \n",
    "    return api.polls.addVote(**kwargs)"
   ]
  },
  {
   "cell_type": "code",
   "execution_count": 14,
   "metadata": {
    "scrolled": false
   },
   "outputs": [
    {
     "name": "stdout",
     "output_type": "stream",
     "text": [
      "needs answering: https://vk.com/asurveys?w=poll-172053584_306718174\n"
     ]
    }
   ],
   "source": [
    "for i, wall_post in enumerate(group_wall_json[\"items\"]):\n",
    "    poll = get_poll(wall_post)\n",
    "    if poll is None or poll[\"anonymous\"]:\n",
    "        continue\n",
    "    poll_filename = \"data/poll_{}.json\".format(poll[\"id\"])\n",
    "\n",
    "    if os.path.isfile(poll_filename):\n",
    "        continue\n",
    "    \n",
    "    if poll[\"answer_id\"] == 0:\n",
    "#         print(\"Answering result: {}\".format(vote_in_poll(api, poll)))\n",
    "        print(\"needs answering: https://vk.com/asurveys?w=poll-172053584_{}\".format(poll[\"id\"]))\n",
    "        continue\n",
    "\n",
    "    kwargs = {\n",
    "        \"poll_id\": poll[\"id\"],\n",
    "        \"owner_id\": poll[\"owner_id\"],\n",
    "        \"count\": 1000,\n",
    "        \"answer_ids\": list(map(lambda answer: answer[\"id\"], poll[\"answers\"])),\n",
    "        \"fields\": \"nickname, screen_name, sex, photo, photo_medium, photo_big\"\n",
    "    }\n",
    "    \n",
    "    try:\n",
    "        poll_voters = api.polls.getVoters(**kwargs)\n",
    "    except VkAPIError as vk_error:\n",
    "        print(vk_error)\n",
    "        print(poll)\n",
    "        time.sleep(1)\n",
    "        continue\n",
    "    with open(poll_filename, \"w\") as f:\n",
    "        json.dump(poll_voters, f)\n",
    "    if (i + 1) % 20 == 0:\n",
    "        print(\"Processed {}/{} polls\".format(i + 1, len(group_wall_json[\"items\"])))\n",
    "    time.sleep(5)"
   ]
  },
  {
   "cell_type": "markdown",
   "metadata": {},
   "source": [
    "# Processing and squeezing data"
   ]
  },
  {
   "cell_type": "code",
   "execution_count": 15,
   "metadata": {},
   "outputs": [],
   "source": [
    "# import json\n",
    "# with open(\"data/poll_307034744.json\", \"r\") as f:\n",
    "#     poll = json.load(f)\n",
    "# poll"
   ]
  },
  {
   "cell_type": "markdown",
   "metadata": {},
   "source": [
    "### Building main mappings:"
   ]
  },
  {
   "cell_type": "code",
   "execution_count": 17,
   "metadata": {},
   "outputs": [],
   "source": [
    "poll_id_to_answer_id_to_user_ids = {}\n",
    "user_id_to_user = {}\n",
    "\n",
    "for filename in os.listdir(\"data\"):\n",
    "    if \"poll_\" not in filename:\n",
    "        continue\n",
    "    poll_id = int(filename.split(\"poll_\")[1].split(\".\")[0])\n",
    "    poll_id_to_answer_id_to_user_ids[poll_id] = {}\n",
    "\n",
    "    with open(\"data/\" + filename, \"r\") as f:\n",
    "        poll = json.load(f)\n",
    "    \n",
    "    if not isinstance(poll, list):\n",
    "        print(\"error\")\n",
    "    \n",
    "    answers_to_ids = []\n",
    "    for answer in poll:\n",
    "        voted_users = answer[\"users\"][\"items\"]\n",
    "\n",
    "        answer_id = answer[\"answer_id\"]\n",
    "        voted_user_ids = list(map(lambda voted_user: voted_user[\"id\"], voted_users))\n",
    "\n",
    "        for voted_user in voted_users:\n",
    "            user_id_to_user[voted_user[\"id\"]] = voted_user\n",
    "        \n",
    "        poll_id_to_answer_id_to_user_ids[poll_id][answer_id] = voted_user_ids\n",
    "\n",
    "#         answer_id_to_user = list(map(lambda vote: (vote[\"id\"], vote), ))\n",
    "#         all_ids_to_users.update(dict(answer_id_to_user))\n",
    "#         all_ids.extend(map(lambda item: item[0], answer_id_to_user))"
   ]
  },
  {
   "cell_type": "code",
   "execution_count": 18,
   "metadata": {
    "collapsed": true
   },
   "outputs": [],
   "source": [
    "with open(\"data/user_id_to_user.json\", \"w\") as f:\n",
    "    json.dump(user_id_to_user, f)"
   ]
  },
  {
   "cell_type": "code",
   "execution_count": 19,
   "metadata": {
    "collapsed": true
   },
   "outputs": [],
   "source": [
    "with open(\"data/poll_id_to_answer_id_to_user_ids.json\", \"w\") as f:\n",
    "    json.dump(poll_id_to_answer_id_to_user_ids, f)"
   ]
  },
  {
   "cell_type": "code",
   "execution_count": null,
   "metadata": {
    "collapsed": true
   },
   "outputs": [],
   "source": [
    "# from collections import Counter\n",
    "# cnt = Counter(all_ids)"
   ]
  },
  {
   "cell_type": "code",
   "execution_count": null,
   "metadata": {
    "collapsed": true
   },
   "outputs": [],
   "source": [
    "# for user_id in cnt:\n",
    "#     all_ids_to_users[user_id][\"num_votes\"] = cnt[user_id]"
   ]
  },
  {
   "cell_type": "code",
   "execution_count": null,
   "metadata": {
    "collapsed": true
   },
   "outputs": [],
   "source": [
    "# with open(\"data/users.json\", \"w\") as f:\n",
    "#     json.dump(all_ids_to_user, f)"
   ]
  },
  {
   "cell_type": "markdown",
   "metadata": {},
   "source": [
    "### Building \"sparse\" matrix."
   ]
  },
  {
   "cell_type": "code",
   "execution_count": null,
   "metadata": {
    "collapsed": true
   },
   "outputs": [],
   "source": [
    "# polls = []\n",
    "# for filename in os.listdir(\"data\"):\n",
    "#     if \"poll_\" not in filename:\n",
    "#         continue\n",
    "#     poll_id = int(filename.split(\"poll_\")[1].split(\".\")[0])\n",
    "#     with open(\"data/\" + filename, \"r\") as f:\n",
    "#         poll = json.load(f)\n",
    "    \n",
    "#     if not isinstance(poll, list):\n",
    "#         print(\"error\")\n",
    "    \n",
    "#     answers_to_ids = []\n",
    "#     for answer in poll:\n",
    "#         answers_to_ids.append(list(map(lambda vote: vote[\"id\"], answer[\"users\"][\"items\"])))\n",
    "#     polls.append(answers_to_ids)"
   ]
  },
  {
   "cell_type": "markdown",
   "metadata": {},
   "source": [
    "Now we have variable 'polls' which is [POLL_ID \\* ANSWER_ID \\* USER] where ids are not real but just indexation."
   ]
  },
  {
   "cell_type": "code",
   "execution_count": null,
   "metadata": {
    "collapsed": true
   },
   "outputs": [],
   "source": [
    "# with open(\"data/vote_matrix.json\", \"w\") as f:\n",
    "#     json.dump(polls, f)"
   ]
  },
  {
   "cell_type": "code",
   "execution_count": null,
   "metadata": {
    "collapsed": true
   },
   "outputs": [],
   "source": []
  },
  {
   "cell_type": "markdown",
   "metadata": {},
   "source": [
    "# Now let's make some stats"
   ]
  },
  {
   "cell_type": "markdown",
   "metadata": {},
   "source": [
    "# YESNO"
   ]
  },
  {
   "cell_type": "markdown",
   "metadata": {},
   "source": [
    "### Let's find all YesOrNo questions"
   ]
  },
  {
   "cell_type": "code",
   "execution_count": 20,
   "metadata": {
    "collapsed": true
   },
   "outputs": [],
   "source": [
    "import json\n",
    "\n",
    "with open(\"data/group_wall.json\", \"r\") as f:\n",
    "    group_wall_json = json.load(f)"
   ]
  },
  {
   "cell_type": "code",
   "execution_count": 21,
   "metadata": {
    "collapsed": true
   },
   "outputs": [],
   "source": [
    "# group_wall_json[\"items\"][0]"
   ]
  },
  {
   "cell_type": "code",
   "execution_count": 22,
   "metadata": {
    "collapsed": true
   },
   "outputs": [],
   "source": [
    "def clear_text(text):\n",
    "    return ''.join(filter(str.isalpha, text.lower()))"
   ]
  },
  {
   "cell_type": "code",
   "execution_count": 23,
   "metadata": {
    "collapsed": true,
    "scrolled": false
   },
   "outputs": [],
   "source": [
    "yes_no_polls = {}\n",
    "\n",
    "for i, wall_post in enumerate(group_wall_json[\"items\"]):\n",
    "    poll = get_poll(wall_post)\n",
    "    if poll is None or poll[\"anonymous\"]:\n",
    "        continue\n",
    "        \n",
    "    answer_texts = list(map(lambda answer: clear_text(answer[\"text\"]), poll[\"answers\"]))\n",
    "    if \"да\" in answer_texts and \"нет\" in answer_texts:\n",
    "        \n",
    "        yes_no_polls[poll[\"id\"]] = {\n",
    "            \"id\": poll[\"id\"],\n",
    "            \"yes_id\": poll[\"answers\"][answer_texts.index(\"да\")][\"id\"],\n",
    "            \"no_id\": poll[\"answers\"][answer_texts.index(\"нет\")][\"id\"]\n",
    "        }\n",
    "        "
   ]
  },
  {
   "cell_type": "code",
   "execution_count": 24,
   "metadata": {},
   "outputs": [
    {
     "name": "stdout",
     "output_type": "stream",
     "text": [
      "Number of yes/no questions: 145\n"
     ]
    }
   ],
   "source": [
    "print(\"Number of yes/no questions: {}\".format(len(yes_no_polls)))"
   ]
  },
  {
   "cell_type": "code",
   "execution_count": 28,
   "metadata": {
    "collapsed": true
   },
   "outputs": [],
   "source": [
    "os.makedirs(\"datax/\")"
   ]
  },
  {
   "cell_type": "markdown",
   "metadata": {},
   "source": [
    "### Now let's find out who are YESNO people"
   ]
  },
  {
   "cell_type": "code",
   "execution_count": 25,
   "metadata": {},
   "outputs": [],
   "source": [
    "from collections import defaultdict\n",
    "\n",
    "yes_cnt = defaultdict(int)\n",
    "no_cnt = defaultdict(int)\n",
    "\n",
    "for yes_no_poll in yes_no_polls.values():\n",
    "    poll_filepath = \"data/poll_{}.json\".format(yes_no_poll[\"id\"])\n",
    "\n",
    "    try:\n",
    "        with open(poll_filepath, \"r\") as f:\n",
    "            poll = json.load(f)\n",
    "    except FileNotFoundError as error:\n",
    "        print(error)\n",
    "\n",
    "    if not isinstance(poll, list):\n",
    "        print(\"error\")\n",
    "    \n",
    "    answers_to_ids = []\n",
    "    for answer in poll:\n",
    "        if answer[\"answer_id\"] == yes_no_poll[\"yes_id\"]:\n",
    "            for user in answer[\"users\"][\"items\"]:\n",
    "                yes_cnt[user[\"id\"]] += 1\n",
    "        if answer[\"answer_id\"] == yes_no_poll[\"no_id\"]:\n",
    "            for user in answer[\"users\"][\"items\"]:\n",
    "                no_cnt[user[\"id\"]] += 1\n"
   ]
  },
  {
   "cell_type": "code",
   "execution_count": 29,
   "metadata": {
    "collapsed": true
   },
   "outputs": [],
   "source": [
    "def get_max_cnt(cnt_dict):\n",
    "    return list(filter(lambda key: cnt_dict[key] == max(cnt_dict.values()), cnt_dict))"
   ]
  },
  {
   "cell_type": "code",
   "execution_count": 30,
   "metadata": {},
   "outputs": [],
   "source": [
    "stat = {\n",
    "    \"stat_name\": \"Человек-ДА\",\n",
    "    \"stat_description\": \"Тот самый разборчивый человек, что почти всегда жмет ДА\",\n",
    "    \"user_ids\": get_max_cnt(yes_cnt)\n",
    "}\n",
    "with open(\"datax/stat_yes_man.json\", \"w\") as f:\n",
    "    json.dump(stat, f)"
   ]
  },
  {
   "cell_type": "code",
   "execution_count": 31,
   "metadata": {
    "collapsed": true
   },
   "outputs": [],
   "source": [
    "stat = {\n",
    "    \"stat_name\": \"Человек-НЕТ\",\n",
    "    \"stat_description\": \"Тот самый разборчивый человек, что почти всегда жмет НЕТ\",\n",
    "    \"user_ids\": get_max_cnt(no_cnt)\n",
    "}\n",
    "\n",
    "with open(\"datax/stat_no_man.json\", \"w\") as f:\n",
    "    json.dump(stat, f)"
   ]
  },
  {
   "cell_type": "markdown",
   "metadata": {},
   "source": [
    "# Make 1x1 correlation"
   ]
  },
  {
   "cell_type": "code",
   "execution_count": 32,
   "metadata": {
    "collapsed": true
   },
   "outputs": [],
   "source": [
    "import json\n",
    "\n",
    "with open(\"data/poll_id_to_answer_id_to_user_ids.json\", \"r\") as f:\n",
    "    poll_id_to_answer_id_to_user_ids = json.load(f)"
   ]
  },
  {
   "cell_type": "code",
   "execution_count": 43,
   "metadata": {},
   "outputs": [],
   "source": [
    "a = {1, 2, 5}\n",
    "\n",
    "a.update([1, 2, 3, 4])"
   ]
  },
  {
   "cell_type": "code",
   "execution_count": 46,
   "metadata": {},
   "outputs": [],
   "source": [
    "user_id_to_user_id_to_ncommon_polls = {}\n",
    "for poll_id in poll_id_to_answer_id_to_user_ids:\n",
    "    poll_users = set()\n",
    "\n",
    "    answer_id_to_user_ids = poll_id_to_answer_id_to_user_ids[poll_id]\n",
    "    for answer_id in answer_id_to_user_ids:\n",
    "        user_ids = answer_id_to_user_ids[answer_id]\n",
    "        poll_users.update(user_ids)\n",
    "\n",
    "    for user_id_1 in poll_users:\n",
    "        if user_id_1 not in user_id_to_user_id_to_ncommon_polls:\n",
    "            user_id_to_user_id_to_ncommon_polls[user_id_1] = {}\n",
    "\n",
    "        for user_id_2 in poll_users:\n",
    "            if user_id_2 not in user_id_to_user_id_to_ncommon_polls[user_id_1]:\n",
    "                user_id_to_user_id_to_ncommon_polls[user_id_1][user_id_2] = 0\n",
    "            \n",
    "            user_id_to_user_id_to_ncommon_polls[user_id_1][user_id_2] += 1"
   ]
  },
  {
   "cell_type": "code",
   "execution_count": 47,
   "metadata": {},
   "outputs": [],
   "source": [
    "user_id_to_user_id_to_ncommon_answer = {}\n",
    "for poll_id in poll_id_to_answer_id_to_user_ids:\n",
    "    answer_id_to_user_ids = poll_id_to_answer_id_to_user_ids[poll_id]\n",
    "    for answer_id in answer_id_to_user_ids:\n",
    "        user_ids = answer_id_to_user_ids[answer_id]\n",
    "        for user_id_1 in user_ids:\n",
    "            user_id_to_user_id_to_ncommon_answer[user_id_1] = {}\n",
    "            for user_id_2 in user_ids:\n",
    "                if user_id_2 not in user_id_to_user_id_to_ncommon_answer[user_id_1]:\n",
    "                    user_id_to_user_id_to_ncommon_answer[user_id_1][user_id_2] = 0\n",
    "                user_id_to_user_id_to_ncommon_answer[user_id_1][user_id_2] += 1"
   ]
  },
  {
   "cell_type": "code",
   "execution_count": 53,
   "metadata": {},
   "outputs": [
    {
     "name": "stdout",
     "output_type": "stream",
     "text": [
      "a = 153727\n",
      "b = 1448133\n"
     ]
    }
   ],
   "source": [
    "MIN_NUMBER_OF_COMMON_POLLS = 50\n",
    "\n",
    "user_id_to_user_id_to_correlation = {}\n",
    "\n",
    "for user_id_1 in user_id_to_user_id_to_ncommon_polls:\n",
    "    for user_id_2 in user_id_to_user_id_to_ncommon_polls[user_id_1]:\n",
    "        \n",
    "        ncommon_polls = user_id_to_user_id_to_ncommon_polls[user_id_1][user_id_2]\n",
    "        ncommon_answer = user_id_to_user_id_to_ncommon_answer[user_id_1][user_id_2]\n",
    "        \n",
    "        if ncommon_polls > MIN_NUMBER_OF_COMMON_POLLS:\n",
    "            if user_id_1 not in user_id_to_user_id_to_correlation:\n",
    "                user_id_to_user_id_to_correlation[user_id_1] = {}\n",
    "                if user_id_2 not in user_id_to_user_id_to_correlation[user_id_1]:\n",
    "                    user_id_to_user_id_to_correlation[user_id_1][user_id_2] = 1.0 * ncommon_answer / ncommon_polls\n"
   ]
  },
  {
   "cell_type": "code",
   "execution_count": 54,
   "metadata": {
    "collapsed": true
   },
   "outputs": [],
   "source": [
    "with open(\"data/user_id_to_user_id_to_correlation.json\", \"w\") as f:\n",
    "    json.dump(user_id_to_user_id_to_correlation, f)"
   ]
  },
  {
   "cell_type": "code",
   "execution_count": null,
   "metadata": {
    "collapsed": true
   },
   "outputs": [],
   "source": []
  }
 ],
 "metadata": {
  "kernelspec": {
   "display_name": "Python 3",
   "language": "python",
   "name": "python3"
  },
  "language_info": {
   "codemirror_mode": {
    "name": "ipython",
    "version": 3
   },
   "file_extension": ".py",
   "mimetype": "text/x-python",
   "name": "python",
   "nbconvert_exporter": "python",
   "pygments_lexer": "ipython3",
   "version": "3.6.7"
  }
 },
 "nbformat": 4,
 "nbformat_minor": 2
}
