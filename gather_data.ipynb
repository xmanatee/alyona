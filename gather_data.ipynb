{
 "cells": [
  {
   "cell_type": "markdown",
   "metadata": {},
   "source": [
    "https://oauth.vk.com/authorize?client_id=6052784&scope=271502&redirect_uri=https://oauth.vk.com/blank.html&display=page&v=5.63&response_type=token"
   ]
  },
  {
   "cell_type": "code",
   "execution_count": null,
   "metadata": {
    "collapsed": true
   },
   "outputs": [],
   "source": [
    "# copy token here\n",
    "token = \"b26aa5422a903025651eed18bab686470c0e931156befe595e9d6c3728ae9bd67a9a4d4bfc05376982930\""
   ]
  },
  {
   "cell_type": "code",
   "execution_count": null,
   "metadata": {
    "collapsed": true
   },
   "outputs": [],
   "source": [
    "poll_group_id = \"-172053584\""
   ]
  },
  {
   "cell_type": "markdown",
   "metadata": {},
   "source": [
    "# VK API"
   ]
  },
  {
   "cell_type": "code",
   "execution_count": null,
   "metadata": {
    "collapsed": true
   },
   "outputs": [],
   "source": [
    "import vk\n",
    "from vk.exceptions import VkAPIError"
   ]
  },
  {
   "cell_type": "code",
   "execution_count": null,
   "metadata": {
    "collapsed": true
   },
   "outputs": [],
   "source": [
    "session = vk.Session(token)\n",
    "api = vk.API(session, v=\"5.74\")"
   ]
  },
  {
   "cell_type": "markdown",
   "metadata": {},
   "source": [
    "# Getting the whole wall"
   ]
  },
  {
   "cell_type": "markdown",
   "metadata": {},
   "source": [
    "### Creating data dir if it doesn't exist"
   ]
  },
  {
   "cell_type": "code",
   "execution_count": null,
   "metadata": {
    "collapsed": true
   },
   "outputs": [],
   "source": [
    "import os"
   ]
  },
  {
   "cell_type": "code",
   "execution_count": null,
   "metadata": {},
   "outputs": [],
   "source": [
    "os.makedirs(\"data\", exist_ok=True)"
   ]
  },
  {
   "cell_type": "markdown",
   "metadata": {},
   "source": [
    "### Requesting first 100"
   ]
  },
  {
   "cell_type": "code",
   "execution_count": null,
   "metadata": {},
   "outputs": [],
   "source": [
    "kwargs = {\"owner_id\": poll_group_id, \"count\": \"100\"}"
   ]
  },
  {
   "cell_type": "code",
   "execution_count": null,
   "metadata": {},
   "outputs": [],
   "source": [
    "group_wall_json = api.wall.get(**kwargs)"
   ]
  },
  {
   "cell_type": "code",
   "execution_count": null,
   "metadata": {},
   "outputs": [],
   "source": [
    "len(group_wall_json[\"items\"])"
   ]
  },
  {
   "cell_type": "code",
   "execution_count": null,
   "metadata": {},
   "outputs": [],
   "source": [
    "# group_wall_json"
   ]
  },
  {
   "cell_type": "code",
   "execution_count": null,
   "metadata": {
    "collapsed": true
   },
   "outputs": [],
   "source": [
    "import time\n",
    "\n",
    "while len(group_wall_json[\"items\"]) < group_wall_json[\"count\"]:\n",
    "    kwargs.update({\n",
    "        \"offset\": len(group_wall_json[\"items\"])\n",
    "    })\n",
    "    extra_group_wall_json = api.wall.get(**kwargs)\n",
    "    group_wall_json[\"items\"].extend(extra_group_wall_json[\"items\"])\n",
    "    time.sleep(3)"
   ]
  },
  {
   "cell_type": "markdown",
   "metadata": {},
   "source": [
    "Saving the result:"
   ]
  },
  {
   "cell_type": "code",
   "execution_count": null,
   "metadata": {
    "collapsed": true
   },
   "outputs": [],
   "source": [
    "import json"
   ]
  },
  {
   "cell_type": "code",
   "execution_count": null,
   "metadata": {},
   "outputs": [],
   "source": [
    "with open(\"data/group_wall.json\", \"w\") as f:\n",
    "    json.dump(group_wall_json, f)"
   ]
  },
  {
   "cell_type": "markdown",
   "metadata": {},
   "source": [
    "# Getting poll voters"
   ]
  },
  {
   "cell_type": "code",
   "execution_count": null,
   "metadata": {
    "collapsed": true
   },
   "outputs": [],
   "source": [
    "with open(\"data/group_wall.json\", \"r\") as f:\n",
    "    group_wall_json = json.load(f)"
   ]
  },
  {
   "cell_type": "code",
   "execution_count": null,
   "metadata": {},
   "outputs": [],
   "source": [
    "# wall_post = group_wall_json[\"items\"][1]\n",
    "# poll = get_poll(wall_post)\n",
    "# poll_voters = api.polls.getVoters(**kwargs)\n",
    "# poll_voters"
   ]
  },
  {
   "cell_type": "code",
   "execution_count": null,
   "metadata": {
    "collapsed": true
   },
   "outputs": [],
   "source": [
    "def get_poll(wall_post):\n",
    "    if \"attachments\" not in wall_post:\n",
    "        return None\n",
    "    for attachment in wall_post[\"attachments\"]:\n",
    "        if attachment[\"type\"] != \"poll\":\n",
    "            continue\n",
    "        poll = attachment[\"poll\"]\n",
    "        return poll\n",
    "    return None"
   ]
  },
  {
   "cell_type": "code",
   "execution_count": null,
   "metadata": {
    "scrolled": true
   },
   "outputs": [],
   "source": [
    "for i, wall_post in enumerate(group_wall_json[\"items\"]):\n",
    "    poll = get_poll(wall_post)\n",
    "    if poll is None or poll[\"anonymous\"]:\n",
    "        continue\n",
    "    kwargs = {\n",
    "        \"poll_id\": poll[\"id\"],\n",
    "        \"owner_id\": poll[\"owner_id\"],\n",
    "        \"count\": 1000,\n",
    "        \"answer_ids\": list(map(lambda answer: answer[\"id\"], poll[\"answers\"])),\n",
    "        \"fields\": \"nickname, screen_name, sex, photo, photo_medium, photo_big\"\n",
    "    }\n",
    "    \n",
    "    try:\n",
    "        poll_voters = api.polls.getVoters(**kwargs)\n",
    "    except VkAPIError as vk_error:\n",
    "#         print(vk_error)\n",
    "        time.sleep(1)\n",
    "        continue\n",
    "    with open(\"data/poll_{}.json\".format(poll[\"id\"]), \"w\") as f:\n",
    "        json.dump(poll_voters, f)\n",
    "    if (i + 1) % 20 == 0:\n",
    "        print(\"Processed {}/{} polls\".format(i + 1, len(group_wall_json[\"items\"])))\n",
    "    time.sleep(5)"
   ]
  },
  {
   "cell_type": "markdown",
   "metadata": {},
   "source": [
    "# Processing and squeezing data"
   ]
  },
  {
   "cell_type": "markdown",
   "metadata": {},
   "source": [
    "### Squeezing all users:"
   ]
  },
  {
   "cell_type": "code",
   "execution_count": null,
   "metadata": {
    "collapsed": true
   },
   "outputs": [],
   "source": [
    "all_ids_to_users = {}\n",
    "all_ids = []\n",
    "for filename in os.listdir(\"data\"):\n",
    "    if \"poll_\" not in filename:\n",
    "        continue\n",
    "    poll_id = int(filename.split(\"poll_\")[1].split(\".\")[0])\n",
    "    with open(\"data/\" + filename, \"r\") as f:\n",
    "        poll = json.load(f)\n",
    "    \n",
    "    if not isinstance(poll, list):\n",
    "        print(\"error\")\n",
    "    \n",
    "    answers_to_ids = []\n",
    "    for answer in poll:\n",
    "        answer_id_to_user = list(map(lambda vote: (vote[\"id\"], vote), answer[\"users\"][\"items\"]))\n",
    "        all_ids_to_users.update(dict(answer_id_to_user))\n",
    "        all_ids.extend(map(lambda item: item[0], answer_id_to_user))"
   ]
  },
  {
   "cell_type": "code",
   "execution_count": null,
   "metadata": {},
   "outputs": [],
   "source": [
    "from collections import Counter\n",
    "cnt = Counter(all_ids)"
   ]
  },
  {
   "cell_type": "code",
   "execution_count": null,
   "metadata": {},
   "outputs": [],
   "source": [
    "for user_id in cnt:\n",
    "    all_ids_to_users[user_id][\"num_votes\"] = cnt[user_id]"
   ]
  },
  {
   "cell_type": "code",
   "execution_count": null,
   "metadata": {
    "collapsed": true
   },
   "outputs": [],
   "source": [
    "with open(\"data/users.json\", \"w\") as f:\n",
    "    json.dump(all_ids_to_user, f)"
   ]
  },
  {
   "cell_type": "code",
   "execution_count": null,
   "metadata": {
    "collapsed": true
   },
   "outputs": [],
   "source": []
  },
  {
   "cell_type": "code",
   "execution_count": null,
   "metadata": {
    "collapsed": true
   },
   "outputs": [],
   "source": []
  },
  {
   "cell_type": "markdown",
   "metadata": {},
   "source": [
    "### Building \"sparse\" relativity matrix."
   ]
  },
  {
   "cell_type": "code",
   "execution_count": null,
   "metadata": {},
   "outputs": [],
   "source": [
    "polls = []\n",
    "for filename in os.listdir(\"data\"):\n",
    "    if \"poll_\" not in filename:\n",
    "        continue\n",
    "    poll_id = int(filename.split(\"poll_\")[1].split(\".\")[0])\n",
    "    with open(\"data/\" + filename, \"r\") as f:\n",
    "        poll = json.load(f)\n",
    "    \n",
    "    if not isinstance(poll, list):\n",
    "        print(\"error\")\n",
    "    \n",
    "    answers_to_ids = []\n",
    "    for answer in poll:\n",
    "        answers_to_ids.append(list(map(lambda vote: vote[\"id\"], answer[\"users\"][\"items\"])))\n",
    "    polls.append(answers_to_ids)"
   ]
  },
  {
   "cell_type": "markdown",
   "metadata": {},
   "source": [
    "Now we have variable 'polls' which is [POLL_ID \\* ANSWER_ID \\* USER] where ids are not real but just indexation."
   ]
  },
  {
   "cell_type": "code",
   "execution_count": null,
   "metadata": {
    "collapsed": true
   },
   "outputs": [],
   "source": [
    "with open(\"data/vote_matrix.json\", \"w\") as f:\n",
    "    json.dump(polls, f)"
   ]
  },
  {
   "cell_type": "code",
   "execution_count": null,
   "metadata": {
    "collapsed": true
   },
   "outputs": [],
   "source": []
  }
 ],
 "metadata": {
  "kernelspec": {
   "display_name": "Python 3",
   "language": "python",
   "name": "python3"
  },
  "language_info": {
   "codemirror_mode": {
    "name": "ipython",
    "version": 3
   },
   "file_extension": ".py",
   "mimetype": "text/x-python",
   "name": "python",
   "nbconvert_exporter": "python",
   "pygments_lexer": "ipython3",
   "version": "3.6.7"
  }
 },
 "nbformat": 4,
 "nbformat_minor": 2
}
