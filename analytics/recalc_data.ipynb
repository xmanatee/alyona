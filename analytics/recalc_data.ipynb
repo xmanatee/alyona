{
 "cells": [
  {
   "cell_type": "code",
   "execution_count": 52,
   "metadata": {},
   "outputs": [],
   "source": [
    "import json\n",
    "import os\n",
    "import sys\n",
    "import time"
   ]
  },
  {
   "cell_type": "code",
   "execution_count": 53,
   "metadata": {},
   "outputs": [],
   "source": [
    "from common.main_mapping import *\n",
    "from common.utils import *"
   ]
  },
  {
   "cell_type": "code",
   "execution_count": 54,
   "metadata": {},
   "outputs": [
    {
     "name": "stdout",
     "output_type": "stream",
     "text": [
      "/Users/xmanatee/Desktop/alyona/analytics\n"
     ]
    }
   ],
   "source": [
    "module_path = os.path.abspath(os.path.join('.'))\n",
    "print(module_path)\n",
    "if module_path not in sys.path:\n",
    "    sys.path.append(module_path)"
   ]
  },
  {
   "cell_type": "code",
   "execution_count": 57,
   "metadata": {},
   "outputs": [],
   "source": [
    "from settings import DATA_DIR"
   ]
  },
  {
   "cell_type": "markdown",
   "metadata": {},
   "source": [
    "# Processing and squeezing data"
   ]
  },
  {
   "cell_type": "code",
   "execution_count": 55,
   "metadata": {},
   "outputs": [],
   "source": [
    "# import json\n",
    "# with open(\"data/poll_307034744.json\", \"r\") as f:\n",
    "#     poll = json.load(f)\n",
    "# poll"
   ]
  },
  {
   "cell_type": "markdown",
   "metadata": {},
   "source": [
    "### Building main mappings:"
   ]
  },
  {
   "cell_type": "code",
   "execution_count": 56,
   "metadata": {},
   "outputs": [],
   "source": [
    "from config import *"
   ]
  },
  {
   "cell_type": "code",
   "execution_count": 6,
   "metadata": {},
   "outputs": [],
   "source": [
    "poll_id_to_answer_id_to_user_ids, user_id_to_user = build_main_mapping(DATA_DIR)"
   ]
  },
  {
   "cell_type": "code",
   "execution_count": 7,
   "metadata": {},
   "outputs": [],
   "source": [
    "with open(DATA_DIR + \"user_id_to_user.json\", \"w\") as f:\n",
    "    json.dump(user_id_to_user, f)"
   ]
  },
  {
   "cell_type": "code",
   "execution_count": 8,
   "metadata": {},
   "outputs": [],
   "source": [
    "with open(DATA_DIR + \"poll_id_to_answer_id_to_user_ids.json\", \"w\") as f:\n",
    "    json.dump(poll_id_to_answer_id_to_user_ids, f)"
   ]
  },
  {
   "cell_type": "markdown",
   "metadata": {},
   "source": [
    "Now we have variable 'polls' which is [POLL_ID \\* ANSWER_ID \\* USER] where ids are not real but just indexation."
   ]
  },
  {
   "cell_type": "markdown",
   "metadata": {},
   "source": [
    "# Now let's make some stats"
   ]
  },
  {
   "cell_type": "code",
   "execution_count": 9,
   "metadata": {},
   "outputs": [],
   "source": [
    "CHART_ITEM_NUMBER = 5"
   ]
  },
  {
   "cell_type": "markdown",
   "metadata": {},
   "source": [
    "# YESNO"
   ]
  },
  {
   "cell_type": "markdown",
   "metadata": {},
   "source": [
    "### Let's find all YesOrNo questions"
   ]
  },
  {
   "cell_type": "code",
   "execution_count": 10,
   "metadata": {},
   "outputs": [],
   "source": [
    "import json\n",
    "\n",
    "with open(DATA_DIR + \"group_wall.json\", \"r\") as f:\n",
    "    group_wall_json = json.load(f)"
   ]
  },
  {
   "cell_type": "code",
   "execution_count": 11,
   "metadata": {},
   "outputs": [],
   "source": [
    "# group_wall_json[\"items\"][0]"
   ]
  },
  {
   "cell_type": "code",
   "execution_count": 12,
   "metadata": {},
   "outputs": [],
   "source": [
    "def clear_text(text):\n",
    "    return ''.join(filter(str.isalpha, text.lower()))"
   ]
  },
  {
   "cell_type": "code",
   "execution_count": 13,
   "metadata": {},
   "outputs": [],
   "source": [
    "yes_no_polls = {}\n",
    "\n",
    "for i, wall_post in enumerate(group_wall_json[\"items\"]):\n",
    "    poll = get_poll(wall_post)\n",
    "    if poll is None or poll[\"anonymous\"]:\n",
    "        continue\n",
    "        \n",
    "    answer_texts = list(map(lambda answer: clear_text(answer[\"text\"]), poll[\"answers\"]))\n",
    "    if \"да\" in answer_texts and \"нет\" in answer_texts:\n",
    "        \n",
    "        yes_no_polls[poll[\"id\"]] = {\n",
    "            \"id\": poll[\"id\"],\n",
    "            \"yes_id\": poll[\"answers\"][answer_texts.index(\"да\")][\"id\"],\n",
    "            \"no_id\": poll[\"answers\"][answer_texts.index(\"нет\")][\"id\"]\n",
    "        }\n",
    "        "
   ]
  },
  {
   "cell_type": "code",
   "execution_count": 14,
   "metadata": {},
   "outputs": [
    {
     "name": "stdout",
     "output_type": "stream",
     "text": [
      "Number of yes/no questions: 145\n"
     ]
    }
   ],
   "source": [
    "print(\"Number of yes/no questions: {}\".format(len(yes_no_polls)))"
   ]
  },
  {
   "cell_type": "code",
   "execution_count": 15,
   "metadata": {},
   "outputs": [],
   "source": [
    "os.makedirs(DATAX_DIR, exist_ok=True)"
   ]
  },
  {
   "cell_type": "markdown",
   "metadata": {},
   "source": [
    "### Now let's find out who are YESNO people"
   ]
  },
  {
   "cell_type": "code",
   "execution_count": 16,
   "metadata": {},
   "outputs": [],
   "source": [
    "from collections import defaultdict\n",
    "\n",
    "yes_cnt = defaultdict(int)\n",
    "no_cnt = defaultdict(int)\n",
    "\n",
    "for yes_no_poll in yes_no_polls.values():\n",
    "    poll_filepath = DATA_DIR + \"poll_{}.json\".format(yes_no_poll[\"id\"])\n",
    "\n",
    "    try:\n",
    "        with open(poll_filepath, \"r\") as f:\n",
    "            poll = json.load(f)\n",
    "    except FileNotFoundError as error:\n",
    "        print(error)\n",
    "        continue\n",
    "\n",
    "    if not isinstance(poll, list):\n",
    "        print(\"error\")\n",
    "    \n",
    "    answers_to_ids = []\n",
    "    for answer in poll:\n",
    "        if answer[\"answer_id\"] == yes_no_poll[\"yes_id\"]:\n",
    "            for user in answer[\"users\"][\"items\"]:\n",
    "                yes_cnt[user[\"id\"]] += 1\n",
    "        if answer[\"answer_id\"] == yes_no_poll[\"no_id\"]:\n",
    "            for user in answer[\"users\"][\"items\"]:\n",
    "                no_cnt[user[\"id\"]] += 1\n"
   ]
  },
  {
   "cell_type": "code",
   "execution_count": 17,
   "metadata": {},
   "outputs": [],
   "source": [
    "def get_max_cnt(cnt_dict):\n",
    "    return list(filter(lambda key: cnt_dict[key] == max(cnt_dict.values()), cnt_dict))"
   ]
  },
  {
   "cell_type": "code",
   "execution_count": 18,
   "metadata": {},
   "outputs": [],
   "source": [
    "def get_max_cnts(cnt_dict):\n",
    "    return list(map(lambda i: i[0], sorted(cnt_dict.items(), key=lambda i: i[1], reverse=True)[:CHART_ITEM_NUMBER]))"
   ]
  },
  {
   "cell_type": "code",
   "execution_count": 44,
   "metadata": {},
   "outputs": [],
   "source": [
    "def id_to_name(user_id):\n",
    "    if isinstance(user_id, str):\n",
    "        user_id = int(user_id)\n",
    "\n",
    "        user = user_id_to_user[user_id]\n",
    "    return user[\"first_name\"] + \" \" + user[\"last_name\"]\n",
    "\n",
    "def ids_to_names(user_ids):\n",
    "    return list(map(id_to_name, user_ids))"
   ]
  },
  {
   "cell_type": "code",
   "execution_count": 20,
   "metadata": {},
   "outputs": [],
   "source": [
    "stat = {\n",
    "    \"stat_id\": \"yes_fellas\",\n",
    "    \"stat_icon\": \"icon-like\",\n",
    "    \"stat_name\": \"ДАшки\",\n",
    "    \"stat_description\": \"Тот самый разборчивый человек, что вечно отвечает ДА.\",\n",
    "    \"user_ids\": ids_to_names(get_max_cnts(yes_cnt))\n",
    "}\n",
    "\n",
    "with open(DATAX_DIR + \"stat_yes_fellas.json\", \"w\") as f:\n",
    "    json.dump(stat, f)"
   ]
  },
  {
   "cell_type": "code",
   "execution_count": 21,
   "metadata": {},
   "outputs": [],
   "source": [
    "stat = {\n",
    "    \"stat_id\": \"no_fellas\",\n",
    "    \"stat_icon\": \"icon-dislike\",\n",
    "    \"stat_name\": \"НЕТушки\",\n",
    "    \"stat_description\": \"Тот самый другой разборчивый человек.\",\n",
    "    \"user_ids\": ids_to_names(get_max_cnts(no_cnt))\n",
    "}\n",
    "\n",
    "with open(DATAX_DIR + \"stat_no_fellas.json\", \"w\") as f:\n",
    "    json.dump(stat, f)"
   ]
  },
  {
   "cell_type": "markdown",
   "metadata": {},
   "source": [
    "# Make 1x1 correlation"
   ]
  },
  {
   "cell_type": "code",
   "execution_count": 22,
   "metadata": {},
   "outputs": [],
   "source": [
    "import json\n",
    "\n",
    "with open(DATA_DIR + \"poll_id_to_answer_id_to_user_ids.json\", \"r\") as f:\n",
    "    poll_id_to_answer_id_to_user_ids = json.load(f)"
   ]
  },
  {
   "cell_type": "code",
   "execution_count": 23,
   "metadata": {},
   "outputs": [],
   "source": [
    "user_id_to_user_id_to_ncommon_polls = {}\n",
    "for poll_id in poll_id_to_answer_id_to_user_ids:\n",
    "    poll_users = set()\n",
    "    answer_id_to_user_ids = poll_id_to_answer_id_to_user_ids[poll_id]\n",
    "    for answer_id in answer_id_to_user_ids:\n",
    "        user_ids = answer_id_to_user_ids[answer_id]\n",
    "        poll_users.update(user_ids)\n",
    "    for user_id_1 in poll_users:\n",
    "        if user_id_1 not in user_id_to_user_id_to_ncommon_polls:\n",
    "            user_id_to_user_id_to_ncommon_polls[user_id_1] = {}\n",
    "        for user_id_2 in poll_users:\n",
    "            if user_id_2 == user_id_1:\n",
    "                continue\n",
    "            if user_id_2 not in user_id_to_user_id_to_ncommon_polls[user_id_1]:\n",
    "                user_id_to_user_id_to_ncommon_polls[user_id_1][user_id_2] = 0\n",
    "            user_id_to_user_id_to_ncommon_polls[user_id_1][user_id_2] += 1"
   ]
  },
  {
   "cell_type": "code",
   "execution_count": 24,
   "metadata": {},
   "outputs": [],
   "source": [
    "user_id_to_user_id_to_ncommon_answer = {}\n",
    "for poll_id in poll_id_to_answer_id_to_user_ids:\n",
    "    answer_id_to_user_ids = poll_id_to_answer_id_to_user_ids[poll_id]\n",
    "    for answer_id in answer_id_to_user_ids:\n",
    "        user_ids = answer_id_to_user_ids[answer_id]\n",
    "        for user_id_1 in user_ids:\n",
    "            if user_id_1 not in user_id_to_user_id_to_ncommon_answer:\n",
    "                user_id_to_user_id_to_ncommon_answer[user_id_1] = {}\n",
    "            for user_id_2 in user_ids:\n",
    "                if user_id_2 == user_id_1:\n",
    "                    continue\n",
    "                if user_id_2 not in user_id_to_user_id_to_ncommon_answer[user_id_1]:\n",
    "                    user_id_to_user_id_to_ncommon_answer[user_id_1][user_id_2] = 0\n",
    "                user_id_to_user_id_to_ncommon_answer[user_id_1][user_id_2] += 1"
   ]
  },
  {
   "cell_type": "code",
   "execution_count": 25,
   "metadata": {},
   "outputs": [],
   "source": [
    "MIN_NUMBER_OF_COMMON_POLLS = 50\n",
    "\n",
    "user_id_to_user_id_to_correlation = {}\n",
    "for user_id_1 in user_id_to_user_id_to_ncommon_polls:\n",
    "    for user_id_2 in user_id_to_user_id_to_ncommon_polls[user_id_1]:\n",
    "        ncommon_polls = user_id_to_user_id_to_ncommon_polls[user_id_1][user_id_2]\n",
    "        if user_id_1 not in user_id_to_user_id_to_ncommon_answer:\n",
    "            continue\n",
    "        if user_id_2 not in user_id_to_user_id_to_ncommon_answer[user_id_1]:\n",
    "            continue\n",
    "        ncommon_answer = user_id_to_user_id_to_ncommon_answer[user_id_1][user_id_2]\n",
    "        if ncommon_polls > MIN_NUMBER_OF_COMMON_POLLS:\n",
    "            if user_id_1 not in user_id_to_user_id_to_correlation:\n",
    "                user_id_to_user_id_to_correlation[user_id_1] = {}\n",
    "            if user_id_2 not in user_id_to_user_id_to_correlation[user_id_1]:\n",
    "                user_id_to_user_id_to_correlation[user_id_1][user_id_2] = 1.0 * ncommon_answer / ncommon_polls"
   ]
  },
  {
   "cell_type": "markdown",
   "metadata": {},
   "source": [
    "### Test:"
   ]
  },
  {
   "cell_type": "code",
   "execution_count": 26,
   "metadata": {},
   "outputs": [
    {
     "name": "stdout",
     "output_type": "stream",
     "text": [
      "polls : 542\n",
      "answers : 253\n",
      "correlation : 0.466789667896679\n"
     ]
    }
   ],
   "source": [
    "print(\"polls : {}\".format(user_id_to_user_id_to_ncommon_polls[40048641][86824543]))\n",
    "\n",
    "print(\"answers : {}\".format(user_id_to_user_id_to_ncommon_answer[40048641][86824543]))\n",
    "\n",
    "print(\"correlation : {}\".format(user_id_to_user_id_to_correlation[40048641][86824543]))"
   ]
  },
  {
   "cell_type": "code",
   "execution_count": 27,
   "metadata": {},
   "outputs": [
    {
     "name": "stdout",
     "output_type": "stream",
     "text": [
      "polls : 542\n",
      "answers : 253\n",
      "correlation : 0.466789667896679\n"
     ]
    }
   ],
   "source": [
    "print(\"polls : {}\".format(user_id_to_user_id_to_ncommon_polls[86824543][40048641]))\n",
    "\n",
    "print(\"answers : {}\".format(user_id_to_user_id_to_ncommon_answer[86824543][40048641]))\n",
    "\n",
    "print(\"correlation : {}\".format(user_id_to_user_id_to_correlation[86824543][40048641]))"
   ]
  },
  {
   "cell_type": "code",
   "execution_count": 28,
   "metadata": {},
   "outputs": [],
   "source": [
    "with open(DATA_DIR + \"user_id_to_user_id_to_correlation.json\", \"w\") as f:\n",
    "    json.dump(user_id_to_user_id_to_correlation, f)"
   ]
  },
  {
   "cell_type": "markdown",
   "metadata": {},
   "source": [
    "### Finding best couple"
   ]
  },
  {
   "cell_type": "code",
   "execution_count": 37,
   "metadata": {},
   "outputs": [],
   "source": [
    "def gender(user_id):\n",
    "    if isinstance(user_id, str):\n",
    "        user_id = int(user_id)\n",
    "    return user_id_to_user[user_id][\"sex\"]"
   ]
  },
  {
   "cell_type": "code",
   "execution_count": 30,
   "metadata": {},
   "outputs": [],
   "source": [
    "correlation_and_user_id_and_user_id = []\n",
    "\n",
    "for user_id_1 in user_id_to_user_id_to_correlation:\n",
    "    for user_id_2 in user_id_to_user_id_to_correlation[user_id_1]:\n",
    "        if user_id_1 < user_id_2:\n",
    "            continue\n",
    "        # Enabling only hetero relations\n",
    "        if gender(user_id_1) == gender(user_id_2):\n",
    "            continue\n",
    "        correlation = user_id_to_user_id_to_correlation[user_id_1][user_id_2]\n",
    "        correlation_and_user_id_and_user_id.append((correlation, user_id_1, user_id_2))"
   ]
  },
  {
   "cell_type": "code",
   "execution_count": 31,
   "metadata": {},
   "outputs": [
    {
     "data": {
      "text/plain": [
       "[(0.8627450980392157, 165466937, 16477927),\n",
       " (0.8181818181818182, 199904233, 115771312),\n",
       " (0.8181818181818182, 160630428, 97561390),\n",
       " (0.8064516129032258, 154129724, 111985504),\n",
       " (0.7978723404255319, 207631475, 118827849)]"
      ]
     },
     "execution_count": 31,
     "metadata": {},
     "output_type": "execute_result"
    }
   ],
   "source": [
    "sorted(correlation_and_user_id_and_user_id, reverse=True)[:5]"
   ]
  },
  {
   "cell_type": "code",
   "execution_count": 32,
   "metadata": {},
   "outputs": [],
   "source": [
    "couples = correlation_and_user_id_and_user_id\n",
    "couples = sorted(couples, reverse=True)\n",
    "couples = map(lambda i: i[1:], couples)\n",
    "couples = filter(lambda i: i[0] > i[1], couples)\n",
    "couples = list(couples)[:CHART_ITEM_NUMBER]"
   ]
  },
  {
   "cell_type": "code",
   "execution_count": 33,
   "metadata": {},
   "outputs": [],
   "source": [
    "couple_names = list(map(lambda couple: id_to_name(couple[0]) + \" + \" + id_to_name(couple[1]), couples))"
   ]
  },
  {
   "cell_type": "code",
   "execution_count": 34,
   "metadata": {},
   "outputs": [
    {
     "data": {
      "text/plain": [
       "['Анна Шипиль + Илья Чайковский',\n",
       " 'Софья Михайлова + Александр Нехаев',\n",
       " 'Анна Сунцова + Игнат Полежаев',\n",
       " 'Таня Рябова + Иван Белков',\n",
       " 'Лена Анюшева + Антон Ковальков']"
      ]
     },
     "execution_count": 34,
     "metadata": {},
     "output_type": "execute_result"
    }
   ],
   "source": [
    "couple_names"
   ]
  },
  {
   "cell_type": "code",
   "execution_count": 35,
   "metadata": {},
   "outputs": [],
   "source": [
    "stat = {\n",
    "    \"stat_id\": \"best_couples\",\n",
    "    \"stat_icon\": \"icon-people\",\n",
    "    \"stat_name\": \"Тыры-Пары\",\n",
    "    \"stat_description\": \"Вот им есть о чем потрепаться.\",\n",
    "    \"user_ids\": couple_names,\n",
    "}\n",
    "\n",
    "with open(DATAX_DIR + \"stat_best_couples.json\", \"w\") as f:\n",
    "    json.dump(stat, f)"
   ]
  },
  {
   "cell_type": "markdown",
   "metadata": {},
   "source": [
    "# Personalized stats"
   ]
  },
  {
   "cell_type": "markdown",
   "metadata": {},
   "source": [
    "### Storing user stats"
   ]
  },
  {
   "cell_type": "code",
   "execution_count": 36,
   "metadata": {},
   "outputs": [],
   "source": [
    "import json\n",
    "\n",
    "with open(DATA_DIR + \"user_id_to_user_id_to_correlation.json\", \"r\") as f:\n",
    "    user_id_to_user_id_to_correlation = json.load(f)"
   ]
  },
  {
   "cell_type": "markdown",
   "metadata": {},
   "source": [
    "### Best matches"
   ]
  },
  {
   "cell_type": "code",
   "execution_count": 45,
   "metadata": {},
   "outputs": [],
   "source": [
    "for user_id_1 in user_id_to_user_id_to_correlation:\n",
    "    user_id_and_correlation = user_id_to_user_id_to_correlation[user_id_1].items()\n",
    "    user_id_and_correlation = filter(lambda kv: gender(user_id_1) != gender(kv[0]), user_id_and_correlation)\n",
    "    user_id_and_correlation = sorted(user_id_and_correlation, key=lambda kv: kv[1], reverse=True)\n",
    "    user_id_and_correlation = list(user_id_and_correlation)[:CHART_ITEM_NUMBER]\n",
    "    \n",
    "    match_names = list(map(lambda kv: id_to_name(kv[0]), user_id_and_correlation))\n",
    "    \n",
    "    title = \"best_matches_for_{}\".format(user_id_1)\n",
    "    \n",
    "    stat = {\n",
    "        \"stat_id\": title,\n",
    "        \"stat_icon\": \"icon-people\",\n",
    "        \"stat_name\": \"Твои вариантики\",\n",
    "        \"stat_description\": \"Тиндер отдыхает.\",\n",
    "        \"user_ids\": match_names,\n",
    "    }\n",
    "\n",
    "    with open(DATAX_DIR + \"stat_{}.json\".format(title), \"w\") as f:\n",
    "        json.dump(stat, f)"
   ]
  },
  {
   "cell_type": "markdown",
   "metadata": {},
   "source": [
    "### Worst matches"
   ]
  },
  {
   "cell_type": "code",
   "execution_count": null,
   "metadata": {},
   "outputs": [],
   "source": [
    "for user_id_1 in user_id_to_user_id_to_correlation:\n",
    "    user_id_and_correlation = user_id_to_user_id_to_correlation[user_id_1].items()\n",
    "    user_id_and_correlation = filter(lambda kv: gender(user_id_1) != gender(kv[0]), user_id_and_correlation)\n",
    "    user_id_and_correlation = sorted(user_id_and_correlation, key=lambda kv: kv[1])\n",
    "    user_id_and_correlation = list(user_id_and_correlation)[:CHART_ITEM_NUMBER]\n",
    "    \n",
    "    match_names = list(map(lambda kv: id_to_name(kv[0]), user_id_and_correlation))\n",
    "    \n",
    "    title = \"worst_matches_for_{}\".format(user_id_1)\n",
    "    \n",
    "    stat = {\n",
    "        \"stat_id\": title,\n",
    "        \"stat_icon\": \"icon-people\",\n",
    "        \"stat_name\": \"Не твои вариантики\",\n",
    "        \"stat_description\": \"Тиндер не поможет.\",\n",
    "        \"user_ids\": match_names,\n",
    "    }\n",
    "\n",
    "    with open(DATAX_DIR + \"stat_{}.json\".format(title), \"w\") as f:\n",
    "        json.dump(stat, f)"
   ]
  },
  {
   "cell_type": "markdown",
   "metadata": {},
   "source": [
    "### Best friends"
   ]
  },
  {
   "cell_type": "code",
   "execution_count": null,
   "metadata": {},
   "outputs": [],
   "source": [
    "for user_id_1 in user_id_to_user_id_to_correlation:\n",
    "    user_id_and_correlation = user_id_to_user_id_to_correlation[user_id_1].items()\n",
    "    user_id_and_correlation = filter(lambda kv: gender(user_id_1) == gender(kv[0]), user_id_and_correlation)\n",
    "    user_id_and_correlation = sorted(user_id_and_correlation, key=lambda kv: kv[1])\n",
    "    user_id_and_correlation = list(user_id_and_correlation)[:CHART_ITEM_NUMBER]\n",
    "    \n",
    "    match_names = list(map(lambda kv: id_to_name(kv[0]), user_id_and_correlation))\n",
    "    \n",
    "    title = \"best_friends_for_{}\".format(user_id_1)\n",
    "    \n",
    "    stat = {\n",
    "        \"stat_id\": title,\n",
    "        \"stat_icon\": \"icon-people\",\n",
    "        \"stat_name\": \"Поговори с ними\",\n",
    "        \"stat_description\": \"Потенциальные друзяшки.\",\n",
    "        \"user_ids\": match_names,\n",
    "    }\n",
    "\n",
    "    with open(DATAX_DIR + \"stat_{}.json\".format(title), \"w\") as f:\n",
    "        json.dump(stat, f)"
   ]
  },
  {
   "cell_type": "code",
   "execution_count": null,
   "metadata": {},
   "outputs": [],
   "source": []
  }
 ],
 "metadata": {
  "kernelspec": {
   "display_name": "Python 3",
   "language": "python",
   "name": "python3"
  },
  "language_info": {
   "codemirror_mode": {
    "name": "ipython",
    "version": 3
   },
   "file_extension": ".py",
   "mimetype": "text/x-python",
   "name": "python",
   "nbconvert_exporter": "python",
   "pygments_lexer": "ipython3",
   "version": "3.7.3"
  }
 },
 "nbformat": 4,
 "nbformat_minor": 4
}
