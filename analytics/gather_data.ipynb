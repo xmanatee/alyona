{
 "cells": [
  {
   "cell_type": "code",
   "execution_count": 1,
   "metadata": {},
   "outputs": [
    {
     "name": "stdout",
     "output_type": "stream",
     "text": [
      "Requirement already satisfied: vk in /anaconda3/lib/python3.7/site-packages (2.0.2)\n",
      "Requirement already satisfied: requests<3.0,>=2.8 in /anaconda3/lib/python3.7/site-packages (from vk) (2.22.0)\n",
      "Requirement already satisfied: chardet<3.1.0,>=3.0.2 in /anaconda3/lib/python3.7/site-packages (from requests<3.0,>=2.8->vk) (3.0.4)\n",
      "Requirement already satisfied: certifi>=2017.4.17 in /anaconda3/lib/python3.7/site-packages (from requests<3.0,>=2.8->vk) (2019.6.16)\n",
      "Requirement already satisfied: idna<2.9,>=2.5 in /anaconda3/lib/python3.7/site-packages (from requests<3.0,>=2.8->vk) (2.8)\n",
      "Requirement already satisfied: urllib3!=1.25.0,!=1.25.1,<1.26,>=1.21.1 in /anaconda3/lib/python3.7/site-packages (from requests<3.0,>=2.8->vk) (1.24.2)\n"
     ]
    }
   ],
   "source": [
    "!pip install vk"
   ]
  },
  {
   "cell_type": "code",
   "execution_count": 2,
   "metadata": {},
   "outputs": [],
   "source": [
    "import json\n",
    "import os\n",
    "import sys\n",
    "import time"
   ]
  },
  {
   "cell_type": "code",
   "execution_count": 3,
   "metadata": {},
   "outputs": [],
   "source": [
    "from common.utils import *"
   ]
  },
  {
   "cell_type": "code",
   "execution_count": 4,
   "metadata": {},
   "outputs": [
    {
     "name": "stdout",
     "output_type": "stream",
     "text": [
      "/Users/xmanatee/Desktop/alyona/analytics\n"
     ]
    }
   ],
   "source": [
    "module_path = os.path.abspath(os.path.join('.'))\n",
    "print(module_path)\n",
    "if module_path not in sys.path:\n",
    "    sys.path.append(module_path)"
   ]
  },
  {
   "cell_type": "code",
   "execution_count": 5,
   "metadata": {},
   "outputs": [],
   "source": [
    "from settings import DATA_DIR"
   ]
  },
  {
   "cell_type": "markdown",
   "metadata": {},
   "source": [
    "https://oauth.vk.com/authorize?client_id=6052784&scope=271502&redirect_uri=https://oauth.vk.com/blank.html&display=page&v=5.63&response_type=token"
   ]
  },
  {
   "cell_type": "code",
   "execution_count": 6,
   "metadata": {},
   "outputs": [],
   "source": [
    "# copy token here\n",
    "token = \"f77ac4525ee06ebcae3fdaa3e1b2ed3a936d1c91c5b89ad32d4af2ef3f26295a14426fe3a1ba9610b9b21\""
   ]
  },
  {
   "cell_type": "code",
   "execution_count": 7,
   "metadata": {},
   "outputs": [],
   "source": [
    "poll_group_id = \"-172053584\""
   ]
  },
  {
   "cell_type": "markdown",
   "metadata": {},
   "source": [
    "# VK API"
   ]
  },
  {
   "cell_type": "code",
   "execution_count": 8,
   "metadata": {},
   "outputs": [],
   "source": [
    "import vk\n",
    "from vk.exceptions import VkAPIError"
   ]
  },
  {
   "cell_type": "code",
   "execution_count": 9,
   "metadata": {},
   "outputs": [],
   "source": [
    "session = vk.Session(token)\n",
    "api = vk.API(session, v=\"5.74\")"
   ]
  },
  {
   "cell_type": "markdown",
   "metadata": {},
   "source": [
    "# Getting wall data"
   ]
  },
  {
   "cell_type": "markdown",
   "metadata": {},
   "source": [
    "### Creating data dir if it doesn't exist"
   ]
  },
  {
   "cell_type": "code",
   "execution_count": 10,
   "metadata": {},
   "outputs": [],
   "source": [
    "os.makedirs(DATA_DIR, exist_ok=True)"
   ]
  },
  {
   "cell_type": "markdown",
   "metadata": {},
   "source": [
    "### Requesting first 100"
   ]
  },
  {
   "cell_type": "code",
   "execution_count": 11,
   "metadata": {},
   "outputs": [
    {
     "name": "stdout",
     "output_type": "stream",
     "text": [
      "got 100 items\n"
     ]
    }
   ],
   "source": [
    "kwargs = {\"owner_id\": poll_group_id, \"count\": \"100\"}\n",
    "\n",
    "group_wall_json = api.wall.get(**kwargs)\n",
    "\n",
    "print(\"got {} items\".format(len(group_wall_json[\"items\"])))"
   ]
  },
  {
   "cell_type": "markdown",
   "metadata": {},
   "source": [
    "### Requesting the rest"
   ]
  },
  {
   "cell_type": "code",
   "execution_count": 12,
   "metadata": {},
   "outputs": [
    {
     "name": "stdout",
     "output_type": "stream",
     "text": [
      "Number of items now: 200\n",
      "Number of items now: 300\n",
      "Number of items now: 400\n",
      "Number of items now: 500\n",
      "Number of items now: 600\n",
      "Number of items now: 700\n",
      "Number of items now: 800\n",
      "Number of items now: 900\n",
      "Number of items now: 1000\n",
      "Number of items now: 1100\n",
      "Number of items now: 1200\n",
      "Number of items now: 1300\n",
      "Number of items now: 1400\n",
      "Number of items now: 1500\n",
      "Number of items now: 1600\n",
      "Number of items now: 1700\n",
      "Number of items now: 1800\n",
      "Number of items now: 1900\n",
      "Number of items now: 2000\n",
      "Number of items now: 2100\n",
      "Number of items now: 2200\n",
      "Number of items now: 2268\n"
     ]
    }
   ],
   "source": [
    "while len(group_wall_json[\"items\"]) < group_wall_json[\"count\"]:\n",
    "    kwargs.update({\n",
    "        \"offset\": len(group_wall_json[\"items\"])\n",
    "    })\n",
    "    extra_group_wall_json = api.wall.get(**kwargs)\n",
    "    group_wall_json[\"items\"].extend(extra_group_wall_json[\"items\"])\n",
    "    print(\"Number of items now: {}\".format(len(group_wall_json[\"items\"])))\n",
    "    time.sleep(3)"
   ]
  },
  {
   "cell_type": "markdown",
   "metadata": {},
   "source": [
    "### Saving the result"
   ]
  },
  {
   "cell_type": "code",
   "execution_count": 13,
   "metadata": {},
   "outputs": [],
   "source": [
    "with open(DATA_DIR + \"group_wall.json\", \"w\") as f:\n",
    "    json.dump(group_wall_json, f)"
   ]
  },
  {
   "cell_type": "markdown",
   "metadata": {},
   "source": [
    "# Getting poll voters"
   ]
  },
  {
   "cell_type": "code",
   "execution_count": 14,
   "metadata": {},
   "outputs": [],
   "source": [
    "with open(DATA_DIR + \"group_wall.json\", \"r\") as f:\n",
    "    group_wall_json = json.load(f)"
   ]
  },
  {
   "cell_type": "code",
   "execution_count": 15,
   "metadata": {},
   "outputs": [],
   "source": [
    "def vote_in_poll(api, poll):\n",
    "    answer_id = poll[\"answers\"][0][\"id\"]\n",
    "    kwargs = {\n",
    "        \"poll_id\": poll[\"id\"],\n",
    "        \"owner_id\": poll[\"owner_id\"],\n",
    "        \"answer_ids\": [answer_id],\n",
    "    }\n",
    "    \n",
    "    return api.polls.addVote(**kwargs)"
   ]
  },
  {
   "cell_type": "code",
   "execution_count": 16,
   "metadata": {},
   "outputs": [
    {
     "name": "stdout",
     "output_type": "stream",
     "text": [
      "needs answering: https://vk.com/asurveys?w=poll-172053584_346099976\n",
      "needs answering: https://vk.com/asurveys?w=poll-172053584_345345136\n",
      "needs answering: https://vk.com/asurveys?w=poll-172053584_336569489\n",
      "needs answering: https://vk.com/asurveys?w=poll-172053584_306718174\n"
     ]
    }
   ],
   "source": [
    "for i, wall_post in enumerate(group_wall_json[\"items\"]):\n",
    "    poll = get_poll(wall_post)\n",
    "    if poll is None or poll[\"anonymous\"]:\n",
    "        continue\n",
    "    poll_filename = DATA_DIR + \"poll_{}.json\".format(poll[\"id\"])\n",
    "\n",
    "    if os.path.isfile(poll_filename):\n",
    "        continue\n",
    "    \n",
    "    if poll[\"answer_id\"] == 0:\n",
    "        print(\"needs answering: https://vk.com/asurveys?w=poll-172053584_{}\".format(poll[\"id\"]))\n",
    "        continue\n",
    "\n",
    "    kwargs = {\n",
    "        \"poll_id\": poll[\"id\"],\n",
    "        \"owner_id\": poll[\"owner_id\"],\n",
    "        \"count\": 1000,\n",
    "        \"answer_ids\": list(map(lambda answer: answer[\"id\"], poll[\"answers\"])),\n",
    "        \"fields\": \"nickname, screen_name, sex, photo, photo_medium, photo_big\"\n",
    "    }\n",
    "    \n",
    "    try:\n",
    "        poll_voters = api.polls.getVoters(**kwargs)\n",
    "    except VkAPIError as vk_error:\n",
    "        print(vk_error)\n",
    "        print(poll)\n",
    "        time.sleep(1)\n",
    "        continue\n",
    "    with open(poll_filename, \"w\") as f:\n",
    "        json.dump(poll_voters, f)\n",
    "    if (i + 1) % 20 == 0:\n",
    "        print(\"Processed {}/{} polls\".format(i + 1, len(group_wall_json[\"items\"])))\n",
    "    time.sleep(5)"
   ]
  },
  {
   "cell_type": "code",
   "execution_count": null,
   "metadata": {},
   "outputs": [],
   "source": []
  },
  {
   "cell_type": "code",
   "execution_count": null,
   "metadata": {},
   "outputs": [],
   "source": []
  },
  {
   "cell_type": "code",
   "execution_count": null,
   "metadata": {},
   "outputs": [],
   "source": []
  }
 ],
 "metadata": {
  "kernelspec": {
   "display_name": "Python 3",
   "language": "python",
   "name": "python3"
  },
  "language_info": {
   "codemirror_mode": {
    "name": "ipython",
    "version": 3
   },
   "file_extension": ".py",
   "mimetype": "text/x-python",
   "name": "python",
   "nbconvert_exporter": "python",
   "pygments_lexer": "ipython3",
   "version": "3.7.3"
  }
 },
 "nbformat": 4,
 "nbformat_minor": 4
}
