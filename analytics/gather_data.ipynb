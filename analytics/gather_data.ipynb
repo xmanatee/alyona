{
 "cells": [
  {
   "cell_type": "code",
   "execution_count": 14,
   "metadata": {},
   "outputs": [],
   "source": [
    "import json\n",
    "import os\n",
    "import sys\n",
    "import time"
   ]
  },
  {
   "cell_type": "code",
   "execution_count": 14,
   "metadata": {},
   "outputs": [
    {
     "name": "stdout",
     "output_type": "stream",
     "text": [
      "/Users/xmanatee/Desktop/alyona/analytics\n"
     ]
    }
   ],
   "source": [
    "module_path = os.path.abspath(os.path.join('.'))\n",
    "print(module_path)\n",
    "if module_path not in sys.path:\n",
    "    sys.path.append(module_path)"
   ]
  },
  {
   "cell_type": "markdown",
   "metadata": {},
   "source": [
    "https://oauth.vk.com/authorize?client_id=6052784&scope=271502&redirect_uri=https://oauth.vk.com/blank.html&display=page&v=5.63&response_type=token"
   ]
  },
  {
   "cell_type": "code",
   "execution_count": null,
   "metadata": {},
   "outputs": [],
   "source": [
    "# copy token here\n",
    "token = \"b0eccfa8b4fe3dca107904cdcae88aee85291dfb37b141bf552fb8d625986dc3b0bbadf1384f4a9051abc\""
   ]
  },
  {
   "cell_type": "code",
   "execution_count": null,
   "metadata": {},
   "outputs": [],
   "source": [
    "poll_group_id = \"-172053584\""
   ]
  },
  {
   "cell_type": "markdown",
   "metadata": {},
   "source": [
    "# VK API"
   ]
  },
  {
   "cell_type": "code",
   "execution_count": null,
   "metadata": {},
   "outputs": [],
   "source": [
    "import vk\n",
    "from vk.exceptions import VkAPIError"
   ]
  },
  {
   "cell_type": "code",
   "execution_count": null,
   "metadata": {},
   "outputs": [],
   "source": [
    "session = vk.Session(token)\n",
    "api = vk.API(session, v=\"5.74\")"
   ]
  },
  {
   "cell_type": "markdown",
   "metadata": {},
   "source": [
    "# Getting wall data"
   ]
  },
  {
   "cell_type": "markdown",
   "metadata": {},
   "source": [
    "### Creating data dir if it doesn't exist"
   ]
  },
  {
   "cell_type": "code",
   "execution_count": null,
   "metadata": {},
   "outputs": [],
   "source": [
    "os.makedirs(\"../data\", exist_ok=True)"
   ]
  },
  {
   "cell_type": "markdown",
   "metadata": {},
   "source": [
    "### Requesting first 100"
   ]
  },
  {
   "cell_type": "code",
   "execution_count": null,
   "metadata": {},
   "outputs": [],
   "source": [
    "kwargs = {\"owner_id\": poll_group_id, \"count\": \"100\"}\n",
    "\n",
    "group_wall_json = api.wall.get(**kwargs)\n",
    "\n",
    "print(\"got {} items\".format(len(group_wall_json[\"items\"])))"
   ]
  },
  {
   "cell_type": "markdown",
   "metadata": {},
   "source": [
    "### Requesting the rest"
   ]
  },
  {
   "cell_type": "code",
   "execution_count": null,
   "metadata": {},
   "outputs": [],
   "source": [
    "while len(group_wall_json[\"items\"]) < group_wall_json[\"count\"]:\n",
    "    kwargs.update({\n",
    "        \"offset\": len(group_wall_json[\"items\"])\n",
    "    })\n",
    "    extra_group_wall_json = api.wall.get(**kwargs)\n",
    "    group_wall_json[\"items\"].extend(extra_group_wall_json[\"items\"])\n",
    "    print(\"Number of items now: {}\".format(len(group_wall_json[\"items\"])))\n",
    "    time.sleep(3)"
   ]
  },
  {
   "cell_type": "markdown",
   "metadata": {},
   "source": [
    "### Saving the result"
   ]
  },
  {
   "cell_type": "code",
   "execution_count": null,
   "metadata": {},
   "outputs": [],
   "source": [
    "with open(\"data/group_wall.json\", \"w\") as f:\n",
    "    json.dump(group_wall_json, f)"
   ]
  },
  {
   "cell_type": "markdown",
   "metadata": {},
   "source": [
    "# Getting poll voters"
   ]
  },
  {
   "cell_type": "code",
   "execution_count": null,
   "metadata": {},
   "outputs": [],
   "source": [
    "with open(\"data/group_wall.json\", \"r\") as f:\n",
    "    group_wall_json = json.load(f)"
   ]
  },
  {
   "cell_type": "code",
   "execution_count": null,
   "metadata": {},
   "outputs": [],
   "source": [
    "def vote_in_poll(api, poll):\n",
    "    answer_id = poll[\"answers\"][0][\"id\"]\n",
    "    kwargs = {\n",
    "        \"poll_id\": poll[\"id\"],\n",
    "        \"owner_id\": poll[\"owner_id\"],\n",
    "        \"answer_ids\": [answer_id],\n",
    "    }\n",
    "    \n",
    "    return api.polls.addVote(**kwargs)"
   ]
  },
  {
   "cell_type": "code",
   "execution_count": null,
   "metadata": {},
   "outputs": [],
   "source": [
    "for i, wall_post in enumerate(group_wall_json[\"items\"]):\n",
    "    poll = get_poll(wall_post)\n",
    "    if poll is None or poll[\"anonymous\"]:\n",
    "        continue\n",
    "    poll_filename = \"data/poll_{}.json\".format(poll[\"id\"])\n",
    "\n",
    "    if os.path.isfile(poll_filename):\n",
    "        continue\n",
    "    \n",
    "    if poll[\"answer_id\"] == 0:\n",
    "        print(\"needs answering: https://vk.com/asurveys?w=poll-172053584_{}\".format(poll[\"id\"]))\n",
    "        continue\n",
    "\n",
    "    kwargs = {\n",
    "        \"poll_id\": poll[\"id\"],\n",
    "        \"owner_id\": poll[\"owner_id\"],\n",
    "        \"count\": 1000,\n",
    "        \"answer_ids\": list(map(lambda answer: answer[\"id\"], poll[\"answers\"])),\n",
    "        \"fields\": \"nickname, screen_name, sex, photo, photo_medium, photo_big\"\n",
    "    }\n",
    "    \n",
    "    try:\n",
    "        poll_voters = api.polls.getVoters(**kwargs)\n",
    "    except VkAPIError as vk_error:\n",
    "        print(vk_error)\n",
    "        print(poll)\n",
    "        time.sleep(1)\n",
    "        continue\n",
    "    with open(poll_filename, \"w\") as f:\n",
    "        json.dump(poll_voters, f)\n",
    "    if (i + 1) % 20 == 0:\n",
    "        print(\"Processed {}/{} polls\".format(i + 1, len(group_wall_json[\"items\"])))\n",
    "    time.sleep(5)"
   ]
  }
 ],
 "metadata": {
  "kernelspec": {
   "display_name": "Python 3",
   "language": "python",
   "name": "python3"
  },
  "language_info": {
   "codemirror_mode": {
    "name": "ipython",
    "version": 3
   },
   "file_extension": ".py",
   "mimetype": "text/x-python",
   "name": "python",
   "nbconvert_exporter": "python",
   "pygments_lexer": "ipython3",
   "version": "3.7.3"
  }
 },
 "nbformat": 4,
 "nbformat_minor": 4
}
