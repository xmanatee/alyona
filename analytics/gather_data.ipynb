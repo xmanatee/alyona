{
 "cells": [
  {
   "cell_type": "code",
   "execution_count": 1,
   "metadata": {},
   "outputs": [
    {
     "name": "stdout",
     "output_type": "stream",
     "text": [
      "/Users/xmanatee/Desktop/alyona/analytics\n"
     ]
    }
   ],
   "source": [
    "import os\n",
    "import sys\n",
    "module_path = os.path.abspath(os.path.join('.'))\n",
    "print(module_path)\n",
    "if module_path not in sys.path:\n",
    "    sys.path.append(module_path)"
   ]
  },
  {
   "cell_type": "markdown",
   "metadata": {},
   "source": [
    "https://oauth.vk.com/authorize?client_id=6052784&scope=271502&redirect_uri=https://oauth.vk.com/blank.html&display=page&v=5.63&response_type=token"
   ]
  },
  {
   "cell_type": "code",
   "execution_count": null,
   "metadata": {},
   "outputs": [],
   "source": [
    "# copy token here\n",
    "token = \"b0eccfa8b4fe3dca107904cdcae88aee85291dfb37b141bf552fb8d625986dc3b0bbadf1384f4a9051abc\""
   ]
  },
  {
   "cell_type": "code",
   "execution_count": null,
   "metadata": {},
   "outputs": [],
   "source": [
    "poll_group_id = \"-172053584\""
   ]
  },
  {
   "cell_type": "markdown",
   "metadata": {},
   "source": [
    "# VK API"
   ]
  },
  {
   "cell_type": "code",
   "execution_count": null,
   "metadata": {},
   "outputs": [],
   "source": [
    "import vk\n",
    "from vk.exceptions import VkAPIError"
   ]
  },
  {
   "cell_type": "code",
   "execution_count": null,
   "metadata": {},
   "outputs": [],
   "source": [
    "session = vk.Session(token)\n",
    "api = vk.API(session, v=\"5.74\")"
   ]
  },
  {
   "cell_type": "markdown",
   "metadata": {},
   "source": [
    "# Getting wall data"
   ]
  },
  {
   "cell_type": "markdown",
   "metadata": {},
   "source": [
    "### Creating data dir if it doesn't exist"
   ]
  },
  {
   "cell_type": "code",
   "execution_count": null,
   "metadata": {},
   "outputs": [],
   "source": [
    "import os"
   ]
  },
  {
   "cell_type": "code",
   "execution_count": null,
   "metadata": {},
   "outputs": [],
   "source": [
    "os.makedirs(\"../data\", exist_ok=True)"
   ]
  },
  {
   "cell_type": "markdown",
   "metadata": {},
   "source": [
    "### Requesting first 100"
   ]
  },
  {
   "cell_type": "code",
   "execution_count": null,
   "metadata": {},
   "outputs": [],
   "source": [
    "kwargs = {\"owner_id\": poll_group_id, \"count\": \"100\"}\n",
    "\n",
    "group_wall_json = api.wall.get(**kwargs)\n",
    "\n",
    "print(\"got {} items\".format(len(group_wall_json[\"items\"])))"
   ]
  },
  {
   "cell_type": "markdown",
   "metadata": {},
   "source": [
    "### Requesting the rest"
   ]
  },
  {
   "cell_type": "code",
   "execution_count": null,
   "metadata": {},
   "outputs": [],
   "source": [
    "import time\n",
    "\n",
    "while len(group_wall_json[\"items\"]) < group_wall_json[\"count\"]:\n",
    "    kwargs.update({\n",
    "        \"offset\": len(group_wall_json[\"items\"])\n",
    "    })\n",
    "    extra_group_wall_json = api.wall.get(**kwargs)\n",
    "    group_wall_json[\"items\"].extend(extra_group_wall_json[\"items\"])\n",
    "    print(\"Number of items now: {}\".format(len(group_wall_json[\"items\"])))\n",
    "    time.sleep(3)"
   ]
  },
  {
   "cell_type": "markdown",
   "metadata": {},
   "source": [
    "### Saving the result"
   ]
  },
  {
   "cell_type": "code",
   "execution_count": null,
   "metadata": {},
   "outputs": [],
   "source": [
    "import json"
   ]
  },
  {
   "cell_type": "code",
   "execution_count": null,
   "metadata": {},
   "outputs": [],
   "source": [
    "with open(\"data/group_wall.json\", \"w\") as f:\n",
    "    json.dump(group_wall_json, f)"
   ]
  },
  {
   "cell_type": "markdown",
   "metadata": {},
   "source": [
    "# Getting poll voters"
   ]
  },
  {
   "cell_type": "code",
   "execution_count": null,
   "metadata": {},
   "outputs": [],
   "source": [
    "import json"
   ]
  },
  {
   "cell_type": "code",
   "execution_count": null,
   "metadata": {},
   "outputs": [],
   "source": [
    "with open(\"data/group_wall.json\", \"r\") as f:\n",
    "    group_wall_json = json.load(f)"
   ]
  },
  {
   "cell_type": "code",
   "execution_count": null,
   "metadata": {},
   "outputs": [],
   "source": [
    "def get_poll(wall_post):\n",
    "    if \"attachments\" not in wall_post:\n",
    "        return None\n",
    "    for attachment in wall_post[\"attachments\"]:\n",
    "        if attachment[\"type\"] != \"poll\":\n",
    "            continue\n",
    "        poll = attachment[\"poll\"]\n",
    "        return poll\n",
    "    return None"
   ]
  },
  {
   "cell_type": "code",
   "execution_count": null,
   "metadata": {},
   "outputs": [],
   "source": [
    "def vote_in_poll(api, poll):\n",
    "    answer_id = poll[\"answers\"][0][\"id\"]\n",
    "    kwargs = {\n",
    "        \"poll_id\": poll[\"id\"],\n",
    "        \"owner_id\": poll[\"owner_id\"],\n",
    "        \"answer_ids\": [answer_id],\n",
    "    }\n",
    "    \n",
    "    return api.polls.addVote(**kwargs)"
   ]
  },
  {
   "cell_type": "code",
   "execution_count": null,
   "metadata": {},
   "outputs": [],
   "source": [
    "for i, wall_post in enumerate(group_wall_json[\"items\"]):\n",
    "    poll = get_poll(wall_post)\n",
    "    if poll is None or poll[\"anonymous\"]:\n",
    "        continue\n",
    "    poll_filename = \"data/poll_{}.json\".format(poll[\"id\"])\n",
    "\n",
    "    if os.path.isfile(poll_filename):\n",
    "        continue\n",
    "    \n",
    "    if poll[\"answer_id\"] == 0:\n",
    "        print(\"needs answering: https://vk.com/asurveys?w=poll-172053584_{}\".format(poll[\"id\"]))\n",
    "        continue\n",
    "\n",
    "    kwargs = {\n",
    "        \"poll_id\": poll[\"id\"],\n",
    "        \"owner_id\": poll[\"owner_id\"],\n",
    "        \"count\": 1000,\n",
    "        \"answer_ids\": list(map(lambda answer: answer[\"id\"], poll[\"answers\"])),\n",
    "        \"fields\": \"nickname, screen_name, sex, photo, photo_medium, photo_big\"\n",
    "    }\n",
    "    \n",
    "    try:\n",
    "        poll_voters = api.polls.getVoters(**kwargs)\n",
    "    except VkAPIError as vk_error:\n",
    "        print(vk_error)\n",
    "        print(poll)\n",
    "        time.sleep(1)\n",
    "        continue\n",
    "    with open(poll_filename, \"w\") as f:\n",
    "        json.dump(poll_voters, f)\n",
    "    if (i + 1) % 20 == 0:\n",
    "        print(\"Processed {}/{} polls\".format(i + 1, len(group_wall_json[\"items\"])))\n",
    "    time.sleep(5)"
   ]
  },
  {
   "cell_type": "markdown",
   "metadata": {},
   "source": [
    "# Processing and squeezing data"
   ]
  },
  {
   "cell_type": "code",
   "execution_count": null,
   "metadata": {},
   "outputs": [],
   "source": [
    "import json\n",
    "import os"
   ]
  },
  {
   "cell_type": "code",
   "execution_count": null,
   "metadata": {},
   "outputs": [],
   "source": [
    "# import json\n",
    "# with open(\"data/poll_307034744.json\", \"r\") as f:\n",
    "#     poll = json.load(f)\n",
    "# poll"
   ]
  },
  {
   "cell_type": "markdown",
   "metadata": {},
   "source": [
    "### Building main mappings:"
   ]
  },
  {
   "cell_type": "code",
   "execution_count": 4,
   "metadata": {},
   "outputs": [],
   "source": [
    "DATA_DIR = \"../data/\""
   ]
  },
  {
   "cell_type": "code",
   "execution_count": 5,
   "metadata": {},
   "outputs": [],
   "source": [
    "from common.main_mapping import *"
   ]
  },
  {
   "cell_type": "code",
   "execution_count": 6,
   "metadata": {},
   "outputs": [],
   "source": [
    "poll_id_to_answer_id_to_user_ids, user_id_to_user = build_main_mapping(DATA_DIR)"
   ]
  },
  {
   "cell_type": "code",
   "execution_count": 7,
   "metadata": {},
   "outputs": [],
   "source": [
    "with open(DATA_DIR + \"user_id_to_user.json\", \"w\") as f:\n",
    "    json.dump(user_id_to_user, f)"
   ]
  },
  {
   "cell_type": "code",
   "execution_count": 8,
   "metadata": {},
   "outputs": [],
   "source": [
    "with open(DATA_DIR + \"poll_id_to_answer_id_to_user_ids.json\", \"w\") as f:\n",
    "    json.dump(poll_id_to_answer_id_to_user_ids, f)"
   ]
  },
  {
   "cell_type": "markdown",
   "metadata": {},
   "source": [
    "Now we have variable 'polls' which is [POLL_ID \\* ANSWER_ID \\* USER] where ids are not real but just indexation."
   ]
  },
  {
   "cell_type": "markdown",
   "metadata": {},
   "source": [
    "# Now let's make some stats"
   ]
  },
  {
   "cell_type": "code",
   "execution_count": null,
   "metadata": {},
   "outputs": [],
   "source": [
    "CHART_ITEM_NUMBER = 5"
   ]
  },
  {
   "cell_type": "markdown",
   "metadata": {},
   "source": [
    "# YESNO"
   ]
  },
  {
   "cell_type": "markdown",
   "metadata": {},
   "source": [
    "### Let's find all YesOrNo questions"
   ]
  },
  {
   "cell_type": "code",
   "execution_count": null,
   "metadata": {},
   "outputs": [],
   "source": [
    "import json\n",
    "\n",
    "with open(\"data/group_wall.json\", \"r\") as f:\n",
    "    group_wall_json = json.load(f)"
   ]
  },
  {
   "cell_type": "code",
   "execution_count": null,
   "metadata": {},
   "outputs": [],
   "source": [
    "# group_wall_json[\"items\"][0]"
   ]
  },
  {
   "cell_type": "code",
   "execution_count": null,
   "metadata": {},
   "outputs": [],
   "source": [
    "def clear_text(text):\n",
    "    return ''.join(filter(str.isalpha, text.lower()))"
   ]
  },
  {
   "cell_type": "code",
   "execution_count": null,
   "metadata": {},
   "outputs": [],
   "source": [
    "yes_no_polls = {}\n",
    "\n",
    "for i, wall_post in enumerate(group_wall_json[\"items\"]):\n",
    "    poll = get_poll(wall_post)\n",
    "    if poll is None or poll[\"anonymous\"]:\n",
    "        continue\n",
    "        \n",
    "    answer_texts = list(map(lambda answer: clear_text(answer[\"text\"]), poll[\"answers\"]))\n",
    "    if \"да\" in answer_texts and \"нет\" in answer_texts:\n",
    "        \n",
    "        yes_no_polls[poll[\"id\"]] = {\n",
    "            \"id\": poll[\"id\"],\n",
    "            \"yes_id\": poll[\"answers\"][answer_texts.index(\"да\")][\"id\"],\n",
    "            \"no_id\": poll[\"answers\"][answer_texts.index(\"нет\")][\"id\"]\n",
    "        }\n",
    "        "
   ]
  },
  {
   "cell_type": "code",
   "execution_count": null,
   "metadata": {},
   "outputs": [],
   "source": [
    "print(\"Number of yes/no questions: {}\".format(len(yes_no_polls)))"
   ]
  },
  {
   "cell_type": "code",
   "execution_count": null,
   "metadata": {},
   "outputs": [],
   "source": [
    "os.makedirs(\"datax/\", exist_ok=True)"
   ]
  },
  {
   "cell_type": "markdown",
   "metadata": {},
   "source": [
    "### Now let's find out who are YESNO people"
   ]
  },
  {
   "cell_type": "code",
   "execution_count": null,
   "metadata": {},
   "outputs": [],
   "source": [
    "from collections import defaultdict\n",
    "\n",
    "yes_cnt = defaultdict(int)\n",
    "no_cnt = defaultdict(int)\n",
    "\n",
    "for yes_no_poll in yes_no_polls.values():\n",
    "    poll_filepath = \"data/poll_{}.json\".format(yes_no_poll[\"id\"])\n",
    "\n",
    "    try:\n",
    "        with open(poll_filepath, \"r\") as f:\n",
    "            poll = json.load(f)\n",
    "    except FileNotFoundError as error:\n",
    "        print(error)\n",
    "        continue\n",
    "\n",
    "    if not isinstance(poll, list):\n",
    "        print(\"error\")\n",
    "    \n",
    "    answers_to_ids = []\n",
    "    for answer in poll:\n",
    "        if answer[\"answer_id\"] == yes_no_poll[\"yes_id\"]:\n",
    "            for user in answer[\"users\"][\"items\"]:\n",
    "                yes_cnt[user[\"id\"]] += 1\n",
    "        if answer[\"answer_id\"] == yes_no_poll[\"no_id\"]:\n",
    "            for user in answer[\"users\"][\"items\"]:\n",
    "                no_cnt[user[\"id\"]] += 1\n"
   ]
  },
  {
   "cell_type": "code",
   "execution_count": null,
   "metadata": {},
   "outputs": [],
   "source": [
    "def get_max_cnt(cnt_dict):\n",
    "    return list(filter(lambda key: cnt_dict[key] == max(cnt_dict.values()), cnt_dict))"
   ]
  },
  {
   "cell_type": "code",
   "execution_count": null,
   "metadata": {},
   "outputs": [],
   "source": [
    "def get_max_cnts(cnt_dict):\n",
    "    return list(map(lambda i: i[0], sorted(cnt_dict.items(), key=lambda i: i[1], reverse=True)[:CHART_ITEM_NUMBER]))"
   ]
  },
  {
   "cell_type": "code",
   "execution_count": null,
   "metadata": {},
   "outputs": [],
   "source": [
    "def id_to_name(user_id):\n",
    "    user = user_id_to_user[user_id]\n",
    "    return user[\"first_name\"] + \" \" + user[\"last_name\"]\n",
    "\n",
    "def ids_to_names(user_ids):\n",
    "    return list(map(id_to_name, user_ids))"
   ]
  },
  {
   "cell_type": "code",
   "execution_count": null,
   "metadata": {},
   "outputs": [],
   "source": [
    "stat = {\n",
    "    \"stat_id\": \"yes_fellas\",\n",
    "    \"stat_icon\": \"icon-like\",\n",
    "    \"stat_name\": \"ДАшки\",\n",
    "    \"stat_description\": \"Тот самый разборчивый человек, что вечно отвечает ДА.\",\n",
    "    \"user_ids\": ids_to_names(get_max_cnts(yes_cnt))\n",
    "}\n",
    "\n",
    "with open(\"datax/stat_yes_fellas.json\", \"w\") as f:\n",
    "    json.dump(stat, f)"
   ]
  },
  {
   "cell_type": "code",
   "execution_count": null,
   "metadata": {},
   "outputs": [],
   "source": [
    "stat = {\n",
    "    \"stat_id\": \"no_fellas\",\n",
    "    \"stat_icon\": \"icon-dislike\",\n",
    "    \"stat_name\": \"НЕТушки\",\n",
    "    \"stat_description\": \"Тот самый другой разборчивый человек.\",\n",
    "    \"user_ids\": ids_to_names(get_max_cnts(no_cnt))\n",
    "}\n",
    "\n",
    "with open(\"datax/stat_no_fellas.json\", \"w\") as f:\n",
    "    json.dump(stat, f)"
   ]
  },
  {
   "cell_type": "markdown",
   "metadata": {},
   "source": [
    "# Make 1x1 correlation"
   ]
  },
  {
   "cell_type": "code",
   "execution_count": null,
   "metadata": {},
   "outputs": [],
   "source": [
    "import json\n",
    "\n",
    "with open(\"data/poll_id_to_answer_id_to_user_ids.json\", \"r\") as f:\n",
    "    poll_id_to_answer_id_to_user_ids = json.load(f)"
   ]
  },
  {
   "cell_type": "code",
   "execution_count": null,
   "metadata": {},
   "outputs": [],
   "source": [
    "user_id_to_user_id_to_ncommon_polls = {}\n",
    "for poll_id in poll_id_to_answer_id_to_user_ids:\n",
    "    poll_users = set()\n",
    "    answer_id_to_user_ids = poll_id_to_answer_id_to_user_ids[poll_id]\n",
    "    for answer_id in answer_id_to_user_ids:\n",
    "        user_ids = answer_id_to_user_ids[answer_id]\n",
    "        poll_users.update(user_ids)\n",
    "    for user_id_1 in poll_users:\n",
    "        if user_id_1 not in user_id_to_user_id_to_ncommon_polls:\n",
    "            user_id_to_user_id_to_ncommon_polls[user_id_1] = {}\n",
    "        for user_id_2 in poll_users:\n",
    "            if user_id_2 == user_id_1:\n",
    "                continue\n",
    "            if user_id_2 not in user_id_to_user_id_to_ncommon_polls[user_id_1]:\n",
    "                user_id_to_user_id_to_ncommon_polls[user_id_1][user_id_2] = 0\n",
    "            user_id_to_user_id_to_ncommon_polls[user_id_1][user_id_2] += 1"
   ]
  },
  {
   "cell_type": "code",
   "execution_count": null,
   "metadata": {},
   "outputs": [],
   "source": [
    "user_id_to_user_id_to_ncommon_answer = {}\n",
    "for poll_id in poll_id_to_answer_id_to_user_ids:\n",
    "    answer_id_to_user_ids = poll_id_to_answer_id_to_user_ids[poll_id]\n",
    "    for answer_id in answer_id_to_user_ids:\n",
    "        user_ids = answer_id_to_user_ids[answer_id]\n",
    "        for user_id_1 in user_ids:\n",
    "            if user_id_1 not in user_id_to_user_id_to_ncommon_answer:\n",
    "                user_id_to_user_id_to_ncommon_answer[user_id_1] = {}\n",
    "            for user_id_2 in user_ids:\n",
    "                if user_id_2 == user_id_1:\n",
    "                    continue\n",
    "                if user_id_2 not in user_id_to_user_id_to_ncommon_answer[user_id_1]:\n",
    "                    user_id_to_user_id_to_ncommon_answer[user_id_1][user_id_2] = 0\n",
    "                user_id_to_user_id_to_ncommon_answer[user_id_1][user_id_2] += 1"
   ]
  },
  {
   "cell_type": "code",
   "execution_count": null,
   "metadata": {},
   "outputs": [],
   "source": [
    "MIN_NUMBER_OF_COMMON_POLLS = 50\n",
    "\n",
    "user_id_to_user_id_to_correlation = {}\n",
    "for user_id_1 in user_id_to_user_id_to_ncommon_polls:\n",
    "    for user_id_2 in user_id_to_user_id_to_ncommon_polls[user_id_1]:\n",
    "        ncommon_polls = user_id_to_user_id_to_ncommon_polls[user_id_1][user_id_2]\n",
    "        if user_id_1 not in user_id_to_user_id_to_ncommon_answer:\n",
    "            continue\n",
    "        if user_id_2 not in user_id_to_user_id_to_ncommon_answer[user_id_1]:\n",
    "            continue\n",
    "        ncommon_answer = user_id_to_user_id_to_ncommon_answer[user_id_1][user_id_2]\n",
    "        if ncommon_polls > MIN_NUMBER_OF_COMMON_POLLS:\n",
    "            if user_id_1 not in user_id_to_user_id_to_correlation:\n",
    "                user_id_to_user_id_to_correlation[user_id_1] = {}\n",
    "            if user_id_2 not in user_id_to_user_id_to_correlation[user_id_1]:\n",
    "                user_id_to_user_id_to_correlation[user_id_1][user_id_2] = 1.0 * ncommon_answer / ncommon_polls"
   ]
  },
  {
   "cell_type": "markdown",
   "metadata": {},
   "source": [
    "### Test:"
   ]
  },
  {
   "cell_type": "code",
   "execution_count": null,
   "metadata": {},
   "outputs": [],
   "source": [
    "print(\"polls : {}\".format(user_id_to_user_id_to_ncommon_polls[40048641][86824543]))\n",
    "\n",
    "print(\"answers : {}\".format(user_id_to_user_id_to_ncommon_answer[40048641][86824543]))\n",
    "\n",
    "print(\"correlation : {}\".format(user_id_to_user_id_to_correlation[40048641][86824543]))"
   ]
  },
  {
   "cell_type": "code",
   "execution_count": null,
   "metadata": {},
   "outputs": [],
   "source": [
    "print(\"polls : {}\".format(user_id_to_user_id_to_ncommon_polls[86824543][40048641]))\n",
    "\n",
    "print(\"answers : {}\".format(user_id_to_user_id_to_ncommon_answer[86824543][40048641]))\n",
    "\n",
    "print(\"correlation : {}\".format(user_id_to_user_id_to_correlation[86824543][40048641]))"
   ]
  },
  {
   "cell_type": "code",
   "execution_count": null,
   "metadata": {},
   "outputs": [],
   "source": [
    "with open(\"data/user_id_to_user_id_to_correlation.json\", \"w\") as f:\n",
    "    json.dump(user_id_to_user_id_to_correlation, f)"
   ]
  },
  {
   "cell_type": "markdown",
   "metadata": {},
   "source": [
    "### Finding best couple"
   ]
  },
  {
   "cell_type": "code",
   "execution_count": null,
   "metadata": {},
   "outputs": [],
   "source": [
    "def gender(user_id):\n",
    "    return user_id_to_user[user_id][\"sex\"]"
   ]
  },
  {
   "cell_type": "code",
   "execution_count": null,
   "metadata": {},
   "outputs": [],
   "source": [
    "correlation_and_user_id_and_user_id = []\n",
    "\n",
    "for user_id_1 in user_id_to_user_id_to_correlation:\n",
    "    for user_id_2 in user_id_to_user_id_to_correlation[user_id_1]:\n",
    "        if user_id_1 < user_id_2:\n",
    "            continue\n",
    "        # Enabling only hetero relations\n",
    "        if gender(user_id_1) == gender(user_id_2):\n",
    "            continue\n",
    "        correlation = user_id_to_user_id_to_correlation[user_id_1][user_id_2]\n",
    "        correlation_and_user_id_and_user_id.append((correlation, user_id_1, user_id_2))"
   ]
  },
  {
   "cell_type": "code",
   "execution_count": null,
   "metadata": {},
   "outputs": [],
   "source": [
    "sorted(correlation_and_user_id_and_user_id, reverse=True)[:5]"
   ]
  },
  {
   "cell_type": "code",
   "execution_count": null,
   "metadata": {},
   "outputs": [],
   "source": [
    "couples = list(\n",
    "    filter(\n",
    "        lambda i: i[0] > i[1],\n",
    "        map(\n",
    "            lambda i: i[1:],\n",
    "            sorted(correlation_and_user_id_and_user_id, reverse=True))))[:CHART_ITEM_NUMBER]"
   ]
  },
  {
   "cell_type": "code",
   "execution_count": null,
   "metadata": {},
   "outputs": [],
   "source": [
    "couple_names = list(map(lambda couple: id_to_name(couple[0]) + \" + \" + id_to_name(couple[1]), couples))"
   ]
  },
  {
   "cell_type": "code",
   "execution_count": null,
   "metadata": {},
   "outputs": [],
   "source": [
    "couple_names"
   ]
  },
  {
   "cell_type": "code",
   "execution_count": null,
   "metadata": {},
   "outputs": [],
   "source": [
    "stat = {\n",
    "    \"stat_id\": \"best_couples\",\n",
    "    \"stat_icon\": \"icon-people\",\n",
    "    \"stat_name\": \"Тыры-Пары\",\n",
    "    \"stat_description\": \"Вот им есть о чем потрепаться.\",\n",
    "    \"user_ids\": couple_names,\n",
    "}\n",
    "\n",
    "with open(\"datax/stat_best_couples.json\", \"w\") as f:\n",
    "    json.dump(stat, f)"
   ]
  },
  {
   "cell_type": "markdown",
   "metadata": {},
   "source": [
    "### Storing user stats"
   ]
  },
  {
   "cell_type": "code",
   "execution_count": null,
   "metadata": {},
   "outputs": [],
   "source": [
    "import json\n",
    "\n",
    "with open(\"data/user_id_to_user_id_to_correlation.json\", \"r\") as f:\n",
    "    user_id_to_user_id_to_correlation = json.load(f)"
   ]
  },
  {
   "cell_type": "code",
   "execution_count": null,
   "metadata": {},
   "outputs": [],
   "source": [
    "a = 0\n",
    "for user_id_1 in user_id_to_user_id_to_correlation:\n",
    "    user_id_to_correlation = user_id_to_user_id_to_correlation[user_id_1]\n",
    "    print(\"a: {} len: {}\".format(user_id_1, len(user_id_to_correlation)))\n",
    "    user_id_and_correlation = sorted(user_id_to_correlation.items(), key=lambda kv: kv[1], reverse=True)\n",
    "    print(user_id_and_correlation[:CHART_ITEM_NUMBER])\n",
    "    a += 1\n",
    "    if a > 3:\n",
    "        break"
   ]
  },
  {
   "cell_type": "code",
   "execution_count": null,
   "metadata": {},
   "outputs": [],
   "source": []
  }
 ],
 "metadata": {
  "kernelspec": {
   "display_name": "Python 3",
   "language": "python",
   "name": "python3"
  },
  "language_info": {
   "codemirror_mode": {
    "name": "ipython",
    "version": 3
   },
   "file_extension": ".py",
   "mimetype": "text/x-python",
   "name": "python",
   "nbconvert_exporter": "python",
   "pygments_lexer": "ipython3",
   "version": "3.7.3"
  }
 },
 "nbformat": 4,
 "nbformat_minor": 4
}
